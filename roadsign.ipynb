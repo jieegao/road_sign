{
 "cells": [
  {
   "cell_type": "code",
   "execution_count": 2,
   "metadata": {},
   "outputs": [
    {
     "name": "stderr",
     "output_type": "stream",
     "text": [
      "WARNING (theano.sandbox.cuda): The cuda backend is deprecated and will be removed in the next release (v0.10).  Please switch to the gpuarray backend. You can get more information about how to switch at this URL:\n",
      " https://github.com/Theano/Theano/wiki/Converting-to-the-new-gpu-back-end%28gpuarray%29\n",
      "\n",
      "Using gpu device 0: GeForce GTX 1060 6GB (CNMeM is disabled, cuDNN 5110)\n",
      "Using Theano backend.\n"
     ]
    }
   ],
   "source": [
    "%matplotlib inline\n",
    "import utils ; reload (utils)\n",
    "from utils import *"
   ]
  },
  {
   "cell_type": "code",
   "execution_count": 3,
   "metadata": {
    "collapsed": true
   },
   "outputs": [],
   "source": [
    "%matplotlib inline\n",
    "from __future__ import division,print_function\n",
    "import os, json\n",
    "from glob import glob\n",
    "import numpy as np\n",
    "import scipy\n",
    "from sklearn.preprocessing import OneHotEncoder\n",
    "from sklearn.metrics import confusion_matrix\n",
    "np.set_printoptions(precision=4, linewidth=100)\n",
    "from matplotlib import pyplot as plt\n",
    "import utils; reload(utils)\n",
    "from utils import plots, get_batches, plot_confusion_matrix, get_data"
   ]
  },
  {
   "cell_type": "code",
   "execution_count": 4,
   "metadata": {
    "collapsed": true
   },
   "outputs": [],
   "source": [
    "from numpy.random import random, permutation\n",
    "from scipy import misc, ndimage\n",
    "from scipy.ndimage.interpolation import zoom\n",
    "\n",
    "import keras\n",
    "from keras import backend as K\n",
    "from keras.utils.data_utils import get_file\n",
    "from keras.models import Sequential\n",
    "from keras.layers import Input\n",
    "from keras.layers.core import Flatten, Dense, Dropout, Lambda\n",
    "from keras.layers.convolutional import Convolution2D, MaxPooling2D, ZeroPadding2D\n",
    "from keras.optimizers import SGD, RMSprop\n",
    "from keras.preprocessing import image"
   ]
  },
  {
   "cell_type": "code",
   "execution_count": 5,
   "metadata": {
    "collapsed": true
   },
   "outputs": [],
   "source": [
    "path = \"/home/jiegg/open/data/roadsign/\"\n",
    "\n",
    "model_path = path + 'models/'\n",
    "if not os.path.exists(model_path): os.mkdir(model_path)"
   ]
  },
  {
   "cell_type": "code",
   "execution_count": 6,
   "metadata": {
    "collapsed": true
   },
   "outputs": [],
   "source": [
    "batch_size = 60\n",
    "from vgg16 import Vgg16\n",
    "vgg = Vgg16()\n",
    "model = vgg.model"
   ]
  },
  {
   "cell_type": "code",
   "execution_count": null,
   "metadata": {
    "collapsed": true
   },
   "outputs": [],
   "source": []
  },
  {
   "cell_type": "code",
   "execution_count": 7,
   "metadata": {
    "collapsed": true
   },
   "outputs": [],
   "source": [
    "model.pop()\n",
    "for layer in model.layers: layer.trainable= False"
   ]
  },
  {
   "cell_type": "code",
   "execution_count": 8,
   "metadata": {
    "collapsed": true
   },
   "outputs": [],
   "source": [
    "model.add(Dense(62,activation=\"softmax\"))"
   ]
  },
  {
   "cell_type": "code",
   "execution_count": null,
   "metadata": {
    "collapsed": true
   },
   "outputs": [],
   "source": []
  },
  {
   "cell_type": "code",
   "execution_count": 9,
   "metadata": {
    "scrolled": false
   },
   "outputs": [
    {
     "name": "stdout",
     "output_type": "stream",
     "text": [
      "Found 2520 images belonging to 62 classes.\n",
      "Found 4575 images belonging to 62 classes.\n"
     ]
    }
   ],
   "source": [
    "val_batches = get_batches(path+\"valid_png\",shuffle=False, batch_size=batch_size)\n",
    "batches = get_batches(path+\"train_png\",shuffle=True , batch_size =batch_size)"
   ]
  },
  {
   "cell_type": "code",
   "execution_count": 10,
   "metadata": {
    "collapsed": true
   },
   "outputs": [],
   "source": [
    "def fit_model(model,batches,val_batches,nb_epoch=1):\n",
    "    model.fit_generator(batches,samples_per_epoch=batches.n, nb_epoch = nb_epoch,\n",
    "                       validation_data = val_batches,nb_val_samples=val_batches.n)"
   ]
  },
  {
   "cell_type": "code",
   "execution_count": 11,
   "metadata": {
    "collapsed": true
   },
   "outputs": [],
   "source": [
    "opt = RMSprop(lr =0.1)\n",
    "model.compile(optimizer = opt,loss =\"categorical_crossentropy\",metrics=[\"accuracy\"])"
   ]
  },
  {
   "cell_type": "code",
   "execution_count": 13,
   "metadata": {},
   "outputs": [
    {
     "name": "stdout",
     "output_type": "stream",
     "text": [
      "Epoch 1/1\n",
      "4575/4575 [==============================] - 87s - loss: 9.8833 - acc: 0.3867 - val_loss: 10.5991 - val_acc: 0.3421\n"
     ]
    }
   ],
   "source": [
    "fit_model(model, batches, val_batches, nb_epoch=1)"
   ]
  },
  {
   "cell_type": "code",
   "execution_count": 13,
   "metadata": {},
   "outputs": [
    {
     "name": "stdout",
     "output_type": "stream",
     "text": [
      "Epoch 1/5\n",
      "4575/4575 [==============================] - 89s - loss: 10.0445 - acc: 0.3753 - val_loss: 11.0134 - val_acc: 0.3155\n",
      "Epoch 2/5\n",
      "4575/4575 [==============================] - 89s - loss: 10.4401 - acc: 0.3510 - val_loss: 11.1608 - val_acc: 0.3063\n",
      "Epoch 3/5\n",
      "4575/4575 [==============================] - 90s - loss: 10.1640 - acc: 0.3685 - val_loss: 11.0584 - val_acc: 0.3131\n",
      "Epoch 4/5\n",
      "4575/4575 [==============================] - 89s - loss: 10.2945 - acc: 0.3600 - val_loss: 10.7871 - val_acc: 0.3298\n",
      "Epoch 5/5\n",
      "4575/4575 [==============================] - 89s - loss: 10.1508 - acc: 0.3694 - val_loss: 10.6880 - val_acc: 0.3349\n"
     ]
    }
   ],
   "source": [
    "fit_model(model, batches, val_batches, nb_epoch=5)"
   ]
  },
  {
   "cell_type": "code",
   "execution_count": 15,
   "metadata": {},
   "outputs": [
    {
     "name": "stdout",
     "output_type": "stream",
     "text": [
      "Epoch 1/10\n",
      "4575/4575 [==============================] - 90s - loss: 10.0761 - acc: 0.3744 - val_loss: 10.6279 - val_acc: 0.3397\n",
      "Epoch 2/10\n",
      "4575/4575 [==============================] - 89s - loss: 9.9683 - acc: 0.3808 - val_loss: 10.6270 - val_acc: 0.3397\n",
      "Epoch 3/10\n",
      "4575/4575 [==============================] - 89s - loss: 10.0386 - acc: 0.3766 - val_loss: 10.6254 - val_acc: 0.3401\n",
      "Epoch 4/10\n",
      "4575/4575 [==============================] - 89s - loss: 9.9288 - acc: 0.3830 - val_loss: 10.6234 - val_acc: 0.3401\n",
      "Epoch 5/10\n",
      "4575/4575 [==============================] - 89s - loss: 10.0822 - acc: 0.3742 - val_loss: 10.6232 - val_acc: 0.3405\n",
      "Epoch 6/10\n",
      "4575/4575 [==============================] - 89s - loss: 9.9480 - acc: 0.3819 - val_loss: 10.6208 - val_acc: 0.3409\n",
      "Epoch 7/10\n",
      "4575/4575 [==============================] - 89s - loss: 9.9382 - acc: 0.3832 - val_loss: 10.6198 - val_acc: 0.3409\n",
      "Epoch 8/10\n",
      "4575/4575 [==============================] - 90s - loss: 9.9360 - acc: 0.3827 - val_loss: 10.6209 - val_acc: 0.3409\n",
      "Epoch 9/10\n",
      "4575/4575 [==============================] - 89s - loss: 9.9740 - acc: 0.3808 - val_loss: 10.6223 - val_acc: 0.3409\n",
      "Epoch 10/10\n",
      "4575/4575 [==============================] - 90s - loss: 9.9905 - acc: 0.3797 - val_loss: 10.6233 - val_acc: 0.3409\n"
     ]
    }
   ],
   "source": [
    "opt = RMSprop(lr =0.001)\n",
    "model.compile(optimizer = opt,loss =\"categorical_crossentropy\",metrics=[\"accuracy\"])\n",
    "fit_model(model, batches, val_batches, nb_epoch=10)"
   ]
  },
  {
   "cell_type": "code",
   "execution_count": 16,
   "metadata": {},
   "outputs": [
    {
     "name": "stdout",
     "output_type": "stream",
     "text": [
      "Epoch 1/10\n",
      "4575/4575 [==============================] - 90s - loss: 10.0199 - acc: 0.3779 - val_loss: 10.6235 - val_acc: 0.3405\n",
      "Epoch 2/10\n",
      "4575/4575 [==============================] - 89s - loss: 9.9782 - acc: 0.3801 - val_loss: 10.6233 - val_acc: 0.3409\n",
      "Epoch 3/10\n",
      "4575/4575 [==============================] - 89s - loss: 9.9713 - acc: 0.3810 - val_loss: 10.6231 - val_acc: 0.3405\n",
      "Epoch 4/10\n",
      "4575/4575 [==============================] - 89s - loss: 10.0253 - acc: 0.3773 - val_loss: 10.6232 - val_acc: 0.3405\n",
      "Epoch 5/10\n",
      "4575/4575 [==============================] - 89s - loss: 9.9382 - acc: 0.3825 - val_loss: 10.6230 - val_acc: 0.3409\n",
      "Epoch 6/10\n",
      "4575/4575 [==============================] - 89s - loss: 9.9479 - acc: 0.3823 - val_loss: 10.6229 - val_acc: 0.3409\n",
      "Epoch 7/10\n",
      "4575/4575 [==============================] - 89s - loss: 10.1012 - acc: 0.3731 - val_loss: 10.6228 - val_acc: 0.3409\n",
      "Epoch 8/10\n",
      "4575/4575 [==============================] - 89s - loss: 9.9512 - acc: 0.3819 - val_loss: 10.6227 - val_acc: 0.3409\n",
      "Epoch 9/10\n",
      "4575/4575 [==============================] - 89s - loss: 9.9828 - acc: 0.3801 - val_loss: 10.6224 - val_acc: 0.3409\n",
      "Epoch 10/10\n",
      "4575/4575 [==============================] - 90s - loss: 9.8880 - acc: 0.3854 - val_loss: 10.6222 - val_acc: 0.3409\n"
     ]
    }
   ],
   "source": [
    "opt = RMSprop(lr =0.0001)\n",
    "model.compile(optimizer = opt,loss =\"categorical_crossentropy\",metrics=[\"accuracy\"])\n",
    "fit_model(model, batches, val_batches, nb_epoch=10)"
   ]
  },
  {
   "cell_type": "code",
   "execution_count": 18,
   "metadata": {},
   "outputs": [
    {
     "name": "stdout",
     "output_type": "stream",
     "text": [
      "Epoch 1/10\n",
      "4575/4575 [==============================] - 89s - loss: 10.0047 - acc: 0.3784 - val_loss: 10.6221 - val_acc: 0.3409\n",
      "Epoch 2/10\n",
      "4575/4575 [==============================] - 89s - loss: 9.9633 - acc: 0.3810 - val_loss: 10.6221 - val_acc: 0.3409\n",
      "Epoch 3/10\n",
      "4575/4575 [==============================] - 89s - loss: 9.9759 - acc: 0.3799 - val_loss: 10.6221 - val_acc: 0.3409\n",
      "Epoch 4/10\n",
      "4575/4575 [==============================] - 89s - loss: 9.9818 - acc: 0.3799 - val_loss: 10.6221 - val_acc: 0.3409\n",
      "Epoch 5/10\n",
      "4575/4575 [==============================] - 89s - loss: 10.1139 - acc: 0.3714 - val_loss: 10.6221 - val_acc: 0.3409\n",
      "Epoch 6/10\n",
      "4575/4575 [==============================] - 89s - loss: 9.7581 - acc: 0.3943 - val_loss: 10.6221 - val_acc: 0.3409\n",
      "Epoch 7/10\n",
      "4575/4575 [==============================] - 89s - loss: 10.0264 - acc: 0.3768 - val_loss: 10.6221 - val_acc: 0.3409\n",
      "Epoch 8/10\n",
      "4575/4575 [==============================] - 89s - loss: 9.9435 - acc: 0.3830 - val_loss: 10.6221 - val_acc: 0.3409\n",
      "Epoch 9/10\n",
      "4575/4575 [==============================] - 89s - loss: 10.0686 - acc: 0.3749 - val_loss: 10.6221 - val_acc: 0.3409\n",
      "Epoch 10/10\n",
      "4575/4575 [==============================] - 89s - loss: 9.9682 - acc: 0.3812 - val_loss: 10.6221 - val_acc: 0.3409\n"
     ]
    }
   ],
   "source": [
    "opt = RMSprop(lr =0.00001)\n",
    "model.compile(optimizer = opt,loss =\"categorical_crossentropy\",metrics=[\"accuracy\"])\n",
    "fit_model(model, batches, val_batches, nb_epoch=10)"
   ]
  },
  {
   "cell_type": "code",
   "execution_count": 19,
   "metadata": {},
   "outputs": [
    {
     "name": "stdout",
     "output_type": "stream",
     "text": [
      "Epoch 1/10\n",
      "4575/4575 [==============================] - 90s - loss: 9.8740 - acc: 0.3873 - val_loss: 10.6211 - val_acc: 0.3409\n",
      "Epoch 2/10\n",
      "4575/4575 [==============================] - 89s - loss: 10.0799 - acc: 0.3740 - val_loss: 10.6201 - val_acc: 0.3409\n",
      "Epoch 3/10\n",
      "4575/4575 [==============================] - 89s - loss: 9.9842 - acc: 0.3801 - val_loss: 10.6210 - val_acc: 0.3405\n",
      "Epoch 4/10\n",
      "3875/4575 [========================>.....] - ETA: 8s - loss: 9.9732 - acc: 0.3809 "
     ]
    },
    {
     "ename": "KeyboardInterrupt",
     "evalue": "",
     "output_type": "error",
     "traceback": [
      "\u001b[0;31m---------------------------------------------------------------------------\u001b[0m",
      "\u001b[0;31mKeyboardInterrupt\u001b[0m                         Traceback (most recent call last)",
      "\u001b[0;32m<ipython-input-19-c985e7b7d682>\u001b[0m in \u001b[0;36m<module>\u001b[0;34m()\u001b[0m\n\u001b[1;32m      1\u001b[0m \u001b[0mopt\u001b[0m \u001b[0;34m=\u001b[0m \u001b[0mRMSprop\u001b[0m\u001b[0;34m(\u001b[0m\u001b[0mlr\u001b[0m\u001b[0;34m=\u001b[0m\u001b[0;36m0.001\u001b[0m\u001b[0;34m,\u001b[0m \u001b[0mrho\u001b[0m\u001b[0;34m=\u001b[0m\u001b[0;36m0.7\u001b[0m\u001b[0;34m)\u001b[0m\u001b[0;34m\u001b[0m\u001b[0m\n\u001b[1;32m      2\u001b[0m \u001b[0mmodel\u001b[0m\u001b[0;34m.\u001b[0m\u001b[0mcompile\u001b[0m\u001b[0;34m(\u001b[0m\u001b[0moptimizer\u001b[0m \u001b[0;34m=\u001b[0m \u001b[0mopt\u001b[0m\u001b[0;34m,\u001b[0m\u001b[0mloss\u001b[0m \u001b[0;34m=\u001b[0m\u001b[0;34m\"categorical_crossentropy\"\u001b[0m\u001b[0;34m,\u001b[0m\u001b[0mmetrics\u001b[0m\u001b[0;34m=\u001b[0m\u001b[0;34m[\u001b[0m\u001b[0;34m\"accuracy\"\u001b[0m\u001b[0;34m]\u001b[0m\u001b[0;34m)\u001b[0m\u001b[0;34m\u001b[0m\u001b[0m\n\u001b[0;32m----> 3\u001b[0;31m \u001b[0mfit_model\u001b[0m\u001b[0;34m(\u001b[0m\u001b[0mmodel\u001b[0m\u001b[0;34m,\u001b[0m \u001b[0mbatches\u001b[0m\u001b[0;34m,\u001b[0m \u001b[0mval_batches\u001b[0m\u001b[0;34m,\u001b[0m \u001b[0mnb_epoch\u001b[0m\u001b[0;34m=\u001b[0m\u001b[0;36m10\u001b[0m\u001b[0;34m)\u001b[0m\u001b[0;34m\u001b[0m\u001b[0m\n\u001b[0m",
      "\u001b[0;32m<ipython-input-9-c1fe80e3a73c>\u001b[0m in \u001b[0;36mfit_model\u001b[0;34m(model, batches, val_batches, nb_epoch)\u001b[0m\n\u001b[1;32m      1\u001b[0m \u001b[0;32mdef\u001b[0m \u001b[0mfit_model\u001b[0m\u001b[0;34m(\u001b[0m\u001b[0mmodel\u001b[0m\u001b[0;34m,\u001b[0m\u001b[0mbatches\u001b[0m\u001b[0;34m,\u001b[0m\u001b[0mval_batches\u001b[0m\u001b[0;34m,\u001b[0m\u001b[0mnb_epoch\u001b[0m\u001b[0;34m=\u001b[0m\u001b[0;36m1\u001b[0m\u001b[0;34m)\u001b[0m\u001b[0;34m:\u001b[0m\u001b[0;34m\u001b[0m\u001b[0m\n\u001b[1;32m      2\u001b[0m     model.fit_generator(batches,samples_per_epoch=batches.n, nb_epoch = nb_epoch,\n\u001b[0;32m----> 3\u001b[0;31m                        validation_data = val_batches,nb_val_samples=val_batches.n)\n\u001b[0m",
      "\u001b[0;32m/home/jiegg/anaconda2/lib/python2.7/site-packages/keras/models.pyc\u001b[0m in \u001b[0;36mfit_generator\u001b[0;34m(self, generator, samples_per_epoch, nb_epoch, verbose, callbacks, validation_data, nb_val_samples, class_weight, max_q_size, nb_worker, pickle_safe, initial_epoch, **kwargs)\u001b[0m\n\u001b[1;32m    933\u001b[0m                                         \u001b[0mnb_worker\u001b[0m\u001b[0;34m=\u001b[0m\u001b[0mnb_worker\u001b[0m\u001b[0;34m,\u001b[0m\u001b[0;34m\u001b[0m\u001b[0m\n\u001b[1;32m    934\u001b[0m                                         \u001b[0mpickle_safe\u001b[0m\u001b[0;34m=\u001b[0m\u001b[0mpickle_safe\u001b[0m\u001b[0;34m,\u001b[0m\u001b[0;34m\u001b[0m\u001b[0m\n\u001b[0;32m--> 935\u001b[0;31m                                         initial_epoch=initial_epoch)\n\u001b[0m\u001b[1;32m    936\u001b[0m \u001b[0;34m\u001b[0m\u001b[0m\n\u001b[1;32m    937\u001b[0m     def evaluate_generator(self, generator, val_samples,\n",
      "\u001b[0;32m/home/jiegg/anaconda2/lib/python2.7/site-packages/keras/engine/training.pyc\u001b[0m in \u001b[0;36mfit_generator\u001b[0;34m(self, generator, samples_per_epoch, nb_epoch, verbose, callbacks, validation_data, nb_val_samples, class_weight, max_q_size, nb_worker, pickle_safe, initial_epoch)\u001b[0m\n\u001b[1;32m   1555\u001b[0m                     outs = self.train_on_batch(x, y,\n\u001b[1;32m   1556\u001b[0m                                                \u001b[0msample_weight\u001b[0m\u001b[0;34m=\u001b[0m\u001b[0msample_weight\u001b[0m\u001b[0;34m,\u001b[0m\u001b[0;34m\u001b[0m\u001b[0m\n\u001b[0;32m-> 1557\u001b[0;31m                                                class_weight=class_weight)\n\u001b[0m\u001b[1;32m   1558\u001b[0m \u001b[0;34m\u001b[0m\u001b[0m\n\u001b[1;32m   1559\u001b[0m                     \u001b[0;32mif\u001b[0m \u001b[0;32mnot\u001b[0m \u001b[0misinstance\u001b[0m\u001b[0;34m(\u001b[0m\u001b[0mouts\u001b[0m\u001b[0;34m,\u001b[0m \u001b[0mlist\u001b[0m\u001b[0;34m)\u001b[0m\u001b[0;34m:\u001b[0m\u001b[0;34m\u001b[0m\u001b[0m\n",
      "\u001b[0;32m/home/jiegg/anaconda2/lib/python2.7/site-packages/keras/engine/training.pyc\u001b[0m in \u001b[0;36mtrain_on_batch\u001b[0;34m(self, x, y, sample_weight, class_weight)\u001b[0m\n\u001b[1;32m   1318\u001b[0m             \u001b[0mins\u001b[0m \u001b[0;34m=\u001b[0m \u001b[0mx\u001b[0m \u001b[0;34m+\u001b[0m \u001b[0my\u001b[0m \u001b[0;34m+\u001b[0m \u001b[0msample_weights\u001b[0m\u001b[0;34m\u001b[0m\u001b[0m\n\u001b[1;32m   1319\u001b[0m         \u001b[0mself\u001b[0m\u001b[0;34m.\u001b[0m\u001b[0m_make_train_function\u001b[0m\u001b[0;34m(\u001b[0m\u001b[0;34m)\u001b[0m\u001b[0;34m\u001b[0m\u001b[0m\n\u001b[0;32m-> 1320\u001b[0;31m         \u001b[0moutputs\u001b[0m \u001b[0;34m=\u001b[0m \u001b[0mself\u001b[0m\u001b[0;34m.\u001b[0m\u001b[0mtrain_function\u001b[0m\u001b[0;34m(\u001b[0m\u001b[0mins\u001b[0m\u001b[0;34m)\u001b[0m\u001b[0;34m\u001b[0m\u001b[0m\n\u001b[0m\u001b[1;32m   1321\u001b[0m         \u001b[0;32mif\u001b[0m \u001b[0mlen\u001b[0m\u001b[0;34m(\u001b[0m\u001b[0moutputs\u001b[0m\u001b[0;34m)\u001b[0m \u001b[0;34m==\u001b[0m \u001b[0;36m1\u001b[0m\u001b[0;34m:\u001b[0m\u001b[0;34m\u001b[0m\u001b[0m\n\u001b[1;32m   1322\u001b[0m             \u001b[0;32mreturn\u001b[0m \u001b[0moutputs\u001b[0m\u001b[0;34m[\u001b[0m\u001b[0;36m0\u001b[0m\u001b[0;34m]\u001b[0m\u001b[0;34m\u001b[0m\u001b[0m\n",
      "\u001b[0;32m/home/jiegg/anaconda2/lib/python2.7/site-packages/keras/backend/theano_backend.pyc\u001b[0m in \u001b[0;36m__call__\u001b[0;34m(self, inputs)\u001b[0m\n\u001b[1;32m    957\u001b[0m     \u001b[0;32mdef\u001b[0m \u001b[0m__call__\u001b[0m\u001b[0;34m(\u001b[0m\u001b[0mself\u001b[0m\u001b[0;34m,\u001b[0m \u001b[0minputs\u001b[0m\u001b[0;34m)\u001b[0m\u001b[0;34m:\u001b[0m\u001b[0;34m\u001b[0m\u001b[0m\n\u001b[1;32m    958\u001b[0m         \u001b[0;32massert\u001b[0m \u001b[0misinstance\u001b[0m\u001b[0;34m(\u001b[0m\u001b[0minputs\u001b[0m\u001b[0;34m,\u001b[0m \u001b[0;34m(\u001b[0m\u001b[0mlist\u001b[0m\u001b[0;34m,\u001b[0m \u001b[0mtuple\u001b[0m\u001b[0;34m)\u001b[0m\u001b[0;34m)\u001b[0m\u001b[0;34m\u001b[0m\u001b[0m\n\u001b[0;32m--> 959\u001b[0;31m         \u001b[0;32mreturn\u001b[0m \u001b[0mself\u001b[0m\u001b[0;34m.\u001b[0m\u001b[0mfunction\u001b[0m\u001b[0;34m(\u001b[0m\u001b[0;34m*\u001b[0m\u001b[0minputs\u001b[0m\u001b[0;34m)\u001b[0m\u001b[0;34m\u001b[0m\u001b[0m\n\u001b[0m\u001b[1;32m    960\u001b[0m \u001b[0;34m\u001b[0m\u001b[0m\n\u001b[1;32m    961\u001b[0m \u001b[0;34m\u001b[0m\u001b[0m\n",
      "\u001b[0;32m/home/jiegg/anaconda2/lib/python2.7/site-packages/theano/compile/function_module.pyc\u001b[0m in \u001b[0;36m__call__\u001b[0;34m(self, *args, **kwargs)\u001b[0m\n\u001b[1;32m    882\u001b[0m         \u001b[0;32mtry\u001b[0m\u001b[0;34m:\u001b[0m\u001b[0;34m\u001b[0m\u001b[0m\n\u001b[1;32m    883\u001b[0m             \u001b[0moutputs\u001b[0m \u001b[0;34m=\u001b[0m\u001b[0;31m\\\u001b[0m\u001b[0;34m\u001b[0m\u001b[0m\n\u001b[0;32m--> 884\u001b[0;31m                 \u001b[0mself\u001b[0m\u001b[0;34m.\u001b[0m\u001b[0mfn\u001b[0m\u001b[0;34m(\u001b[0m\u001b[0;34m)\u001b[0m \u001b[0;32mif\u001b[0m \u001b[0moutput_subset\u001b[0m \u001b[0;32mis\u001b[0m \u001b[0mNone\u001b[0m \u001b[0;32melse\u001b[0m\u001b[0;31m\\\u001b[0m\u001b[0;34m\u001b[0m\u001b[0m\n\u001b[0m\u001b[1;32m    885\u001b[0m                 \u001b[0mself\u001b[0m\u001b[0;34m.\u001b[0m\u001b[0mfn\u001b[0m\u001b[0;34m(\u001b[0m\u001b[0moutput_subset\u001b[0m\u001b[0;34m=\u001b[0m\u001b[0moutput_subset\u001b[0m\u001b[0;34m)\u001b[0m\u001b[0;34m\u001b[0m\u001b[0m\n\u001b[1;32m    886\u001b[0m         \u001b[0;32mexcept\u001b[0m \u001b[0mException\u001b[0m\u001b[0;34m:\u001b[0m\u001b[0;34m\u001b[0m\u001b[0m\n",
      "\u001b[0;32m/home/jiegg/anaconda2/lib/python2.7/site-packages/theano/ifelse.pyc\u001b[0m in \u001b[0;36mthunk\u001b[0;34m()\u001b[0m\n\u001b[1;32m    244\u001b[0m         \u001b[0moutputs\u001b[0m \u001b[0;34m=\u001b[0m \u001b[0mnode\u001b[0m\u001b[0;34m.\u001b[0m\u001b[0moutputs\u001b[0m\u001b[0;34m\u001b[0m\u001b[0m\n\u001b[1;32m    245\u001b[0m \u001b[0;34m\u001b[0m\u001b[0m\n\u001b[0;32m--> 246\u001b[0;31m         \u001b[0;32mdef\u001b[0m \u001b[0mthunk\u001b[0m\u001b[0;34m(\u001b[0m\u001b[0;34m)\u001b[0m\u001b[0;34m:\u001b[0m\u001b[0;34m\u001b[0m\u001b[0m\n\u001b[0m\u001b[1;32m    247\u001b[0m             \u001b[0;32mif\u001b[0m \u001b[0;32mnot\u001b[0m \u001b[0mcompute_map\u001b[0m\u001b[0;34m[\u001b[0m\u001b[0mcond\u001b[0m\u001b[0;34m]\u001b[0m\u001b[0;34m[\u001b[0m\u001b[0;36m0\u001b[0m\u001b[0;34m]\u001b[0m\u001b[0;34m:\u001b[0m\u001b[0;34m\u001b[0m\u001b[0m\n\u001b[1;32m    248\u001b[0m                 \u001b[0;32mreturn\u001b[0m \u001b[0;34m[\u001b[0m\u001b[0;36m0\u001b[0m\u001b[0;34m]\u001b[0m\u001b[0;34m\u001b[0m\u001b[0m\n",
      "\u001b[0;31mKeyboardInterrupt\u001b[0m: "
     ]
    }
   ],
   "source": [
    "opt = RMSprop(lr=0.001, rho=0.7)\n",
    "model.compile(optimizer = opt,loss =\"categorical_crossentropy\",metrics=[\"accuracy\"])\n",
    "fit_model(model, batches, val_batches, nb_epoch=10)"
   ]
  },
  {
   "cell_type": "code",
   "execution_count": 20,
   "metadata": {
    "collapsed": true
   },
   "outputs": [],
   "source": [
    "model.save_weights(model_path+\"roadsign.h5\")"
   ]
  },
  {
   "cell_type": "code",
   "execution_count": 21,
   "metadata": {},
   "outputs": [
    {
     "name": "stdout",
     "output_type": "stream",
     "text": [
      "100/100 [==============================] - 1s     \n"
     ]
    },
    {
     "data": {
      "text/plain": [
       "[10.275887908935546, 0.35999999999999999]"
      ]
     },
     "execution_count": 21,
     "metadata": {},
     "output_type": "execute_result"
    }
   ],
   "source": [
    "batch_size = 4\n",
    "imgs, labels = next(batches)\n",
    "model.evaluate(imgs,labels)"
   ]
  },
  {
   "cell_type": "code",
   "execution_count": 26,
   "metadata": {},
   "outputs": [
    {
     "data": {
      "image/png": "[encoded data removed]",
      "text/plain": [
       "<matplotlib.figure.Figure at 0x7f67e31b6210>"
      ]
     },
     "metadata": {},
     "output_type": "display_data"
    }
   ],
   "source": [
    "plots(imgs[0:4],titles = labels[0:4])"
   ]
  },
  {
   "cell_type": "code",
   "execution_count": 29,
   "metadata": {},
   "outputs": [
    {
     "data": {
      "text/plain": [
       "array([[ 0.,  0.,  0.,  0.,  0.,  0.,  0.,  0.,  0.,  0.,  0.,  0.,  0.,  0.,  0.,  0.,  0.,  1.,\n",
       "         0.,  0.,  0.,  0.,  0.,  0.,  0.,  0.,  0.,  0.,  0.,  0.,  0.,  0.,  0.,  0.,  0.,  0.,\n",
       "         0.,  0.,  0.,  0.,  0.,  0.,  0.,  0.,  0.,  0.,  0.,  0.,  0.,  0.,  0.,  0.,  0.,  0.,\n",
       "         0.,  0.,  0.,  0.,  0.,  0.,  0.,  0.]], dtype=float32)"
      ]
     },
     "execution_count": 29,
     "metadata": {},
     "output_type": "execute_result"
    }
   ],
   "source": [
    "labels[0:1]"
   ]
  },
  {
   "cell_type": "code",
   "execution_count": 30,
   "metadata": {
    "collapsed": true
   },
   "outputs": [],
   "source": [
    "def onehot(x): return np.array(OneHotEncoder().fit_transform(x,reshape(-1,1)).todense())"
   ]
  },
  {
   "cell_type": "code",
   "execution_count": 33,
   "metadata": {},
   "outputs": [
    {
     "data": {
      "text/plain": [
       "array([ 0.,  0.,  0.,  0.,  0.,  0.,  0.,  0.,  0.,  0.,  0.,  0.,  0.,  0.,  0.,  0.,  0.,  0.,\n",
       "        0.,  0.,  0.,  0.,  0.,  0.,  0.,  0.,  0.,  0.,  0.,  0.,  0.,  0.,  0.,  0.,  0.,  0.,\n",
       "        0.,  0.,  0.,  0.,  0.,  0.,  0.,  0.,  0.,  0.,  0.,  1.,  0.,  0.,  0.,  0.,  0.,  0.,\n",
       "        0.,  0.,  0.,  0.,  0.,  0.,  0.,  0.], dtype=float32)"
      ]
     },
     "execution_count": 33,
     "metadata": {},
     "output_type": "execute_result"
    }
   ],
   "source": [
    "labels[61]"
   ]
  },
  {
   "cell_type": "code",
   "execution_count": 34,
   "metadata": {},
   "outputs": [
    {
     "data": {
      "text/plain": [
       "(100, 62)"
      ]
     },
     "execution_count": 34,
     "metadata": {},
     "output_type": "execute_result"
    }
   ],
   "source": [
    "labels.shape"
   ]
  },
  {
   "cell_type": "code",
   "execution_count": 15,
   "metadata": {},
   "outputs": [
    {
     "name": "stdout",
     "output_type": "stream",
     "text": [
      "True\n",
      "True\n",
      "True\n",
      "True\n",
      "True\n"
     ]
    }
   ],
   "source": [
    "layers = model.layers\n",
    "first_dense_idx = [index for index, layer in enumerate(layers) if type(layer) is Dense ][0]\n",
    "for layer in layers[first_dense_idx:]: \n",
    "    layer.trainable = True \n",
    "    print(layer.trainable) "
   ]
  },
  {
   "cell_type": "code",
   "execution_count": 40,
   "metadata": {},
   "outputs": [
    {
     "name": "stdout",
     "output_type": "stream",
     "text": [
      "Epoch 1/3\n",
      "4575/4575 [==============================] - 88s - loss: 10.0150 - acc: 0.3779 - val_loss: 10.5967 - val_acc: 0.3417\n",
      "Epoch 2/3\n",
      "4575/4575 [==============================] - 88s - loss: 9.9506 - acc: 0.3819 - val_loss: 10.5729 - val_acc: 0.3429\n",
      "Epoch 3/3\n",
      "4575/4575 [==============================] - 88s - loss: 9.9161 - acc: 0.3843 - val_loss: 10.5786 - val_acc: 0.3433\n"
     ]
    }
   ],
   "source": [
    "K.set_value(opt.lr,0.01)\n",
    "fit_model(model,batches,val_batches,3)"
   ]
  },
  {
   "cell_type": "code",
   "execution_count": 43,
   "metadata": {
    "scrolled": false
   },
   "outputs": [
    {
     "name": "stdout",
     "output_type": "stream",
     "text": [
      "Epoch 1/10\n",
      "4575/4575 [==============================] - 89s - loss: 9.9615 - acc: 0.3816 - val_loss: 10.6035 - val_acc: 0.3413\n",
      "Epoch 2/10\n",
      "4575/4575 [==============================] - 88s - loss: 9.9652 - acc: 0.3814 - val_loss: 10.6091 - val_acc: 0.3405\n",
      "Epoch 3/10\n",
      "4575/4575 [==============================] - 88s - loss: 9.8936 - acc: 0.3854 - val_loss: 10.6045 - val_acc: 0.3421\n",
      "Epoch 4/10\n",
      "4575/4575 [==============================] - 88s - loss: 9.8793 - acc: 0.3867 - val_loss: 10.5963 - val_acc: 0.3421\n",
      "Epoch 5/10\n",
      "4575/4575 [==============================] - 88s - loss: 9.9303 - acc: 0.3832 - val_loss: 10.5677 - val_acc: 0.3433\n",
      "Epoch 6/10\n",
      "4575/4575 [==============================] - 88s - loss: 9.9021 - acc: 0.3854 - val_loss: 10.5760 - val_acc: 0.3429\n",
      "Epoch 7/10\n",
      "4575/4575 [==============================] - 88s - loss: 9.9208 - acc: 0.3843 - val_loss: 10.5776 - val_acc: 0.3425\n",
      "Epoch 8/10\n",
      "4575/4575 [==============================] - 88s - loss: 9.8524 - acc: 0.3878 - val_loss: 10.5671 - val_acc: 0.3425\n",
      "Epoch 9/10\n",
      "4575/4575 [==============================] - 88s - loss: 10.0182 - acc: 0.3777 - val_loss: 10.5652 - val_acc: 0.3440\n",
      "Epoch 10/10\n",
      "4575/4575 [==============================] - 88s - loss: 9.9063 - acc: 0.3851 - val_loss: 10.5511 - val_acc: 0.3448\n"
     ]
    }
   ],
   "source": [
    "K.set_value(opt.lr,0.01)\n",
    "fit_model(model,batches,val_batches,10)"
   ]
  },
  {
   "cell_type": "code",
   "execution_count": 44,
   "metadata": {},
   "outputs": [
    {
     "name": "stdout",
     "output_type": "stream",
     "text": [
      "____________________________________________________________________________________________________\n",
      "Layer (type)                     Output Shape          Param #     Connected to                     \n",
      "====================================================================================================\n",
      "lambda_1 (Lambda)                (None, 3, 224, 224)   0           lambda_input_1[0][0]             \n",
      "____________________________________________________________________________________________________\n",
      "zeropadding2d_1 (ZeroPadding2D)  (None, 3, 226, 226)   0           lambda_1[0][0]                   \n",
      "____________________________________________________________________________________________________\n",
      "convolution2d_1 (Convolution2D)  (None, 64, 224, 224)  1792        zeropadding2d_1[0][0]            \n",
      "____________________________________________________________________________________________________\n",
      "zeropadding2d_2 (ZeroPadding2D)  (None, 64, 226, 226)  0           convolution2d_1[0][0]            \n",
      "____________________________________________________________________________________________________\n",
      "convolution2d_2 (Convolution2D)  (None, 64, 224, 224)  36928       zeropadding2d_2[0][0]            \n",
      "____________________________________________________________________________________________________\n",
      "maxpooling2d_1 (MaxPooling2D)    (None, 64, 112, 112)  0           convolution2d_2[0][0]            \n",
      "____________________________________________________________________________________________________\n",
      "zeropadding2d_3 (ZeroPadding2D)  (None, 64, 114, 114)  0           maxpooling2d_1[0][0]             \n",
      "____________________________________________________________________________________________________\n",
      "convolution2d_3 (Convolution2D)  (None, 128, 112, 112) 73856       zeropadding2d_3[0][0]            \n",
      "____________________________________________________________________________________________________\n",
      "zeropadding2d_4 (ZeroPadding2D)  (None, 128, 114, 114) 0           convolution2d_3[0][0]            \n",
      "____________________________________________________________________________________________________\n",
      "convolution2d_4 (Convolution2D)  (None, 128, 112, 112) 147584      zeropadding2d_4[0][0]            \n",
      "____________________________________________________________________________________________________\n",
      "maxpooling2d_2 (MaxPooling2D)    (None, 128, 56, 56)   0           convolution2d_4[0][0]            \n",
      "____________________________________________________________________________________________________\n",
      "zeropadding2d_5 (ZeroPadding2D)  (None, 128, 58, 58)   0           maxpooling2d_2[0][0]             \n",
      "____________________________________________________________________________________________________\n",
      "convolution2d_5 (Convolution2D)  (None, 256, 56, 56)   295168      zeropadding2d_5[0][0]            \n",
      "____________________________________________________________________________________________________\n",
      "zeropadding2d_6 (ZeroPadding2D)  (None, 256, 58, 58)   0           convolution2d_5[0][0]            \n",
      "____________________________________________________________________________________________________\n",
      "convolution2d_6 (Convolution2D)  (None, 256, 56, 56)   590080      zeropadding2d_6[0][0]            \n",
      "____________________________________________________________________________________________________\n",
      "zeropadding2d_7 (ZeroPadding2D)  (None, 256, 58, 58)   0           convolution2d_6[0][0]            \n",
      "____________________________________________________________________________________________________\n",
      "convolution2d_7 (Convolution2D)  (None, 256, 56, 56)   590080      zeropadding2d_7[0][0]            \n",
      "____________________________________________________________________________________________________\n",
      "maxpooling2d_3 (MaxPooling2D)    (None, 256, 28, 28)   0           convolution2d_7[0][0]            \n",
      "____________________________________________________________________________________________________\n",
      "zeropadding2d_8 (ZeroPadding2D)  (None, 256, 30, 30)   0           maxpooling2d_3[0][0]             \n",
      "____________________________________________________________________________________________________\n",
      "convolution2d_8 (Convolution2D)  (None, 512, 28, 28)   1180160     zeropadding2d_8[0][0]            \n",
      "____________________________________________________________________________________________________\n",
      "zeropadding2d_9 (ZeroPadding2D)  (None, 512, 30, 30)   0           convolution2d_8[0][0]            \n",
      "____________________________________________________________________________________________________\n",
      "convolution2d_9 (Convolution2D)  (None, 512, 28, 28)   2359808     zeropadding2d_9[0][0]            \n",
      "____________________________________________________________________________________________________\n",
      "zeropadding2d_10 (ZeroPadding2D) (None, 512, 30, 30)   0           convolution2d_9[0][0]            \n",
      "____________________________________________________________________________________________________\n",
      "convolution2d_10 (Convolution2D) (None, 512, 28, 28)   2359808     zeropadding2d_10[0][0]           \n",
      "____________________________________________________________________________________________________\n",
      "maxpooling2d_4 (MaxPooling2D)    (None, 512, 14, 14)   0           convolution2d_10[0][0]           \n",
      "____________________________________________________________________________________________________\n",
      "zeropadding2d_11 (ZeroPadding2D) (None, 512, 16, 16)   0           maxpooling2d_4[0][0]             \n",
      "____________________________________________________________________________________________________\n",
      "convolution2d_11 (Convolution2D) (None, 512, 14, 14)   2359808     zeropadding2d_11[0][0]           \n",
      "____________________________________________________________________________________________________\n",
      "zeropadding2d_12 (ZeroPadding2D) (None, 512, 16, 16)   0           convolution2d_11[0][0]           \n",
      "____________________________________________________________________________________________________\n",
      "convolution2d_12 (Convolution2D) (None, 512, 14, 14)   2359808     zeropadding2d_12[0][0]           \n",
      "____________________________________________________________________________________________________\n",
      "zeropadding2d_13 (ZeroPadding2D) (None, 512, 16, 16)   0           convolution2d_12[0][0]           \n",
      "____________________________________________________________________________________________________\n",
      "convolution2d_13 (Convolution2D) (None, 512, 14, 14)   2359808     zeropadding2d_13[0][0]           \n",
      "____________________________________________________________________________________________________\n",
      "maxpooling2d_5 (MaxPooling2D)    (None, 512, 7, 7)     0           convolution2d_13[0][0]           \n",
      "____________________________________________________________________________________________________\n",
      "flatten_1 (Flatten)              (None, 25088)         0           maxpooling2d_5[0][0]             \n",
      "____________________________________________________________________________________________________\n",
      "dense_1 (Dense)                  (None, 4096)          102764544   flatten_1[0][0]                  \n",
      "____________________________________________________________________________________________________\n",
      "dropout_1 (Dropout)              (None, 4096)          0           dense_1[0][0]                    \n",
      "____________________________________________________________________________________________________\n",
      "dense_2 (Dense)                  (None, 4096)          16781312    dropout_1[0][0]                  \n",
      "____________________________________________________________________________________________________\n",
      "dropout_2 (Dropout)              (None, 4096)          0           dense_2[0][0]                    \n",
      "____________________________________________________________________________________________________\n",
      "dense_4 (Dense)                  (None, 62)            254014      dropout_2[0][0]                  \n",
      "====================================================================================================\n",
      "Total params: 134,514,558\n",
      "Trainable params: 119,799,870\n",
      "Non-trainable params: 14,714,688\n",
      "____________________________________________________________________________________________________\n"
     ]
    }
   ],
   "source": [
    "model.summary()"
   ]
  },
  {
   "cell_type": "code",
   "execution_count": 45,
   "metadata": {},
   "outputs": [
    {
     "name": "stdout",
     "output_type": "stream",
     "text": [
      "Epoch 1/10\n",
      "4575/4575 [==============================] - 89s - loss: 9.9674 - acc: 0.3805 - val_loss: 10.5614 - val_acc: 0.3444\n",
      "Epoch 2/10\n",
      "4575/4575 [==============================] - 88s - loss: 9.8196 - acc: 0.3904 - val_loss: 10.5563 - val_acc: 0.3444\n",
      "Epoch 3/10\n",
      "4575/4575 [==============================] - 88s - loss: 9.9534 - acc: 0.3816 - val_loss: 10.5648 - val_acc: 0.3440\n",
      "Epoch 4/10\n",
      "1575/4575 [=========>....................] - ETA: 37s - loss: 9.9916 - acc: 0.3797"
     ]
    },
    {
     "ename": "KeyboardInterrupt",
     "evalue": "",
     "output_type": "error",
     "traceback": [
      "\u001b[0;31m---------------------------------------------------------------------------\u001b[0m",
      "\u001b[0;31mKeyboardInterrupt\u001b[0m                         Traceback (most recent call last)",
      "\u001b[0;32m<ipython-input-45-42ebdda856fe>\u001b[0m in \u001b[0;36m<module>\u001b[0;34m()\u001b[0m\n\u001b[1;32m      1\u001b[0m \u001b[0mK\u001b[0m\u001b[0;34m.\u001b[0m\u001b[0mset_value\u001b[0m\u001b[0;34m(\u001b[0m\u001b[0mopt\u001b[0m\u001b[0;34m.\u001b[0m\u001b[0mlr\u001b[0m\u001b[0;34m,\u001b[0m\u001b[0;36m0.01\u001b[0m\u001b[0;34m)\u001b[0m\u001b[0;34m\u001b[0m\u001b[0m\n\u001b[0;32m----> 2\u001b[0;31m \u001b[0mfit_model\u001b[0m\u001b[0;34m(\u001b[0m\u001b[0mmodel\u001b[0m\u001b[0;34m,\u001b[0m\u001b[0mbatches\u001b[0m\u001b[0;34m,\u001b[0m\u001b[0mval_batches\u001b[0m\u001b[0;34m,\u001b[0m\u001b[0;36m10\u001b[0m\u001b[0;34m)\u001b[0m\u001b[0;34m\u001b[0m\u001b[0m\n\u001b[0m",
      "\u001b[0;32m<ipython-input-9-c1fe80e3a73c>\u001b[0m in \u001b[0;36mfit_model\u001b[0;34m(model, batches, val_batches, nb_epoch)\u001b[0m\n\u001b[1;32m      1\u001b[0m \u001b[0;32mdef\u001b[0m \u001b[0mfit_model\u001b[0m\u001b[0;34m(\u001b[0m\u001b[0mmodel\u001b[0m\u001b[0;34m,\u001b[0m\u001b[0mbatches\u001b[0m\u001b[0;34m,\u001b[0m\u001b[0mval_batches\u001b[0m\u001b[0;34m,\u001b[0m\u001b[0mnb_epoch\u001b[0m\u001b[0;34m=\u001b[0m\u001b[0;36m1\u001b[0m\u001b[0;34m)\u001b[0m\u001b[0;34m:\u001b[0m\u001b[0;34m\u001b[0m\u001b[0m\n\u001b[1;32m      2\u001b[0m     model.fit_generator(batches,samples_per_epoch=batches.n, nb_epoch = nb_epoch,\n\u001b[0;32m----> 3\u001b[0;31m                        validation_data = val_batches,nb_val_samples=val_batches.n)\n\u001b[0m",
      "\u001b[0;32m/home/jiegg/anaconda2/lib/python2.7/site-packages/keras/models.pyc\u001b[0m in \u001b[0;36mfit_generator\u001b[0;34m(self, generator, samples_per_epoch, nb_epoch, verbose, callbacks, validation_data, nb_val_samples, class_weight, max_q_size, nb_worker, pickle_safe, initial_epoch, **kwargs)\u001b[0m\n\u001b[1;32m    933\u001b[0m                                         \u001b[0mnb_worker\u001b[0m\u001b[0;34m=\u001b[0m\u001b[0mnb_worker\u001b[0m\u001b[0;34m,\u001b[0m\u001b[0;34m\u001b[0m\u001b[0m\n\u001b[1;32m    934\u001b[0m                                         \u001b[0mpickle_safe\u001b[0m\u001b[0;34m=\u001b[0m\u001b[0mpickle_safe\u001b[0m\u001b[0;34m,\u001b[0m\u001b[0;34m\u001b[0m\u001b[0m\n\u001b[0;32m--> 935\u001b[0;31m                                         initial_epoch=initial_epoch)\n\u001b[0m\u001b[1;32m    936\u001b[0m \u001b[0;34m\u001b[0m\u001b[0m\n\u001b[1;32m    937\u001b[0m     def evaluate_generator(self, generator, val_samples,\n",
      "\u001b[0;32m/home/jiegg/anaconda2/lib/python2.7/site-packages/keras/engine/training.pyc\u001b[0m in \u001b[0;36mfit_generator\u001b[0;34m(self, generator, samples_per_epoch, nb_epoch, verbose, callbacks, validation_data, nb_val_samples, class_weight, max_q_size, nb_worker, pickle_safe, initial_epoch)\u001b[0m\n\u001b[1;32m   1555\u001b[0m                     outs = self.train_on_batch(x, y,\n\u001b[1;32m   1556\u001b[0m                                                \u001b[0msample_weight\u001b[0m\u001b[0;34m=\u001b[0m\u001b[0msample_weight\u001b[0m\u001b[0;34m,\u001b[0m\u001b[0;34m\u001b[0m\u001b[0m\n\u001b[0;32m-> 1557\u001b[0;31m                                                class_weight=class_weight)\n\u001b[0m\u001b[1;32m   1558\u001b[0m \u001b[0;34m\u001b[0m\u001b[0m\n\u001b[1;32m   1559\u001b[0m                     \u001b[0;32mif\u001b[0m \u001b[0;32mnot\u001b[0m \u001b[0misinstance\u001b[0m\u001b[0;34m(\u001b[0m\u001b[0mouts\u001b[0m\u001b[0;34m,\u001b[0m \u001b[0mlist\u001b[0m\u001b[0;34m)\u001b[0m\u001b[0;34m:\u001b[0m\u001b[0;34m\u001b[0m\u001b[0m\n",
      "\u001b[0;32m/home/jiegg/anaconda2/lib/python2.7/site-packages/keras/engine/training.pyc\u001b[0m in \u001b[0;36mtrain_on_batch\u001b[0;34m(self, x, y, sample_weight, class_weight)\u001b[0m\n\u001b[1;32m   1318\u001b[0m             \u001b[0mins\u001b[0m \u001b[0;34m=\u001b[0m \u001b[0mx\u001b[0m \u001b[0;34m+\u001b[0m \u001b[0my\u001b[0m \u001b[0;34m+\u001b[0m \u001b[0msample_weights\u001b[0m\u001b[0;34m\u001b[0m\u001b[0m\n\u001b[1;32m   1319\u001b[0m         \u001b[0mself\u001b[0m\u001b[0;34m.\u001b[0m\u001b[0m_make_train_function\u001b[0m\u001b[0;34m(\u001b[0m\u001b[0;34m)\u001b[0m\u001b[0;34m\u001b[0m\u001b[0m\n\u001b[0;32m-> 1320\u001b[0;31m         \u001b[0moutputs\u001b[0m \u001b[0;34m=\u001b[0m \u001b[0mself\u001b[0m\u001b[0;34m.\u001b[0m\u001b[0mtrain_function\u001b[0m\u001b[0;34m(\u001b[0m\u001b[0mins\u001b[0m\u001b[0;34m)\u001b[0m\u001b[0;34m\u001b[0m\u001b[0m\n\u001b[0m\u001b[1;32m   1321\u001b[0m         \u001b[0;32mif\u001b[0m \u001b[0mlen\u001b[0m\u001b[0;34m(\u001b[0m\u001b[0moutputs\u001b[0m\u001b[0;34m)\u001b[0m \u001b[0;34m==\u001b[0m \u001b[0;36m1\u001b[0m\u001b[0;34m:\u001b[0m\u001b[0;34m\u001b[0m\u001b[0m\n\u001b[1;32m   1322\u001b[0m             \u001b[0;32mreturn\u001b[0m \u001b[0moutputs\u001b[0m\u001b[0;34m[\u001b[0m\u001b[0;36m0\u001b[0m\u001b[0;34m]\u001b[0m\u001b[0;34m\u001b[0m\u001b[0m\n",
      "\u001b[0;32m/home/jiegg/anaconda2/lib/python2.7/site-packages/keras/backend/theano_backend.pyc\u001b[0m in \u001b[0;36m__call__\u001b[0;34m(self, inputs)\u001b[0m\n\u001b[1;32m    957\u001b[0m     \u001b[0;32mdef\u001b[0m \u001b[0m__call__\u001b[0m\u001b[0;34m(\u001b[0m\u001b[0mself\u001b[0m\u001b[0;34m,\u001b[0m \u001b[0minputs\u001b[0m\u001b[0;34m)\u001b[0m\u001b[0;34m:\u001b[0m\u001b[0;34m\u001b[0m\u001b[0m\n\u001b[1;32m    958\u001b[0m         \u001b[0;32massert\u001b[0m \u001b[0misinstance\u001b[0m\u001b[0;34m(\u001b[0m\u001b[0minputs\u001b[0m\u001b[0;34m,\u001b[0m \u001b[0;34m(\u001b[0m\u001b[0mlist\u001b[0m\u001b[0;34m,\u001b[0m \u001b[0mtuple\u001b[0m\u001b[0;34m)\u001b[0m\u001b[0;34m)\u001b[0m\u001b[0;34m\u001b[0m\u001b[0m\n\u001b[0;32m--> 959\u001b[0;31m         \u001b[0;32mreturn\u001b[0m \u001b[0mself\u001b[0m\u001b[0;34m.\u001b[0m\u001b[0mfunction\u001b[0m\u001b[0;34m(\u001b[0m\u001b[0;34m*\u001b[0m\u001b[0minputs\u001b[0m\u001b[0;34m)\u001b[0m\u001b[0;34m\u001b[0m\u001b[0m\n\u001b[0m\u001b[1;32m    960\u001b[0m \u001b[0;34m\u001b[0m\u001b[0m\n\u001b[1;32m    961\u001b[0m \u001b[0;34m\u001b[0m\u001b[0m\n",
      "\u001b[0;32m/home/jiegg/anaconda2/lib/python2.7/site-packages/theano/compile/function_module.pyc\u001b[0m in \u001b[0;36m__call__\u001b[0;34m(self, *args, **kwargs)\u001b[0m\n\u001b[1;32m    882\u001b[0m         \u001b[0;32mtry\u001b[0m\u001b[0;34m:\u001b[0m\u001b[0;34m\u001b[0m\u001b[0m\n\u001b[1;32m    883\u001b[0m             \u001b[0moutputs\u001b[0m \u001b[0;34m=\u001b[0m\u001b[0;31m\\\u001b[0m\u001b[0;34m\u001b[0m\u001b[0m\n\u001b[0;32m--> 884\u001b[0;31m                 \u001b[0mself\u001b[0m\u001b[0;34m.\u001b[0m\u001b[0mfn\u001b[0m\u001b[0;34m(\u001b[0m\u001b[0;34m)\u001b[0m \u001b[0;32mif\u001b[0m \u001b[0moutput_subset\u001b[0m \u001b[0;32mis\u001b[0m \u001b[0mNone\u001b[0m \u001b[0;32melse\u001b[0m\u001b[0;31m\\\u001b[0m\u001b[0;34m\u001b[0m\u001b[0m\n\u001b[0m\u001b[1;32m    885\u001b[0m                 \u001b[0mself\u001b[0m\u001b[0;34m.\u001b[0m\u001b[0mfn\u001b[0m\u001b[0;34m(\u001b[0m\u001b[0moutput_subset\u001b[0m\u001b[0;34m=\u001b[0m\u001b[0moutput_subset\u001b[0m\u001b[0;34m)\u001b[0m\u001b[0;34m\u001b[0m\u001b[0m\n\u001b[1;32m    886\u001b[0m         \u001b[0;32mexcept\u001b[0m \u001b[0mException\u001b[0m\u001b[0;34m:\u001b[0m\u001b[0;34m\u001b[0m\u001b[0m\n",
      "\u001b[0;32m/home/jiegg/anaconda2/lib/python2.7/site-packages/theano/ifelse.pyc\u001b[0m in \u001b[0;36mthunk\u001b[0;34m()\u001b[0m\n\u001b[1;32m    244\u001b[0m         \u001b[0moutputs\u001b[0m \u001b[0;34m=\u001b[0m \u001b[0mnode\u001b[0m\u001b[0;34m.\u001b[0m\u001b[0moutputs\u001b[0m\u001b[0;34m\u001b[0m\u001b[0m\n\u001b[1;32m    245\u001b[0m \u001b[0;34m\u001b[0m\u001b[0m\n\u001b[0;32m--> 246\u001b[0;31m         \u001b[0;32mdef\u001b[0m \u001b[0mthunk\u001b[0m\u001b[0;34m(\u001b[0m\u001b[0;34m)\u001b[0m\u001b[0;34m:\u001b[0m\u001b[0;34m\u001b[0m\u001b[0m\n\u001b[0m\u001b[1;32m    247\u001b[0m             \u001b[0;32mif\u001b[0m \u001b[0;32mnot\u001b[0m \u001b[0mcompute_map\u001b[0m\u001b[0;34m[\u001b[0m\u001b[0mcond\u001b[0m\u001b[0;34m]\u001b[0m\u001b[0;34m[\u001b[0m\u001b[0;36m0\u001b[0m\u001b[0;34m]\u001b[0m\u001b[0;34m:\u001b[0m\u001b[0;34m\u001b[0m\u001b[0m\n\u001b[1;32m    248\u001b[0m                 \u001b[0;32mreturn\u001b[0m \u001b[0;34m[\u001b[0m\u001b[0;36m0\u001b[0m\u001b[0;34m]\u001b[0m\u001b[0;34m\u001b[0m\u001b[0m\n",
      "\u001b[0;31mKeyboardInterrupt\u001b[0m: "
     ]
    }
   ],
   "source": [
    "K.set_value(opt.lr,0.01)\n",
    "fit_model(model,batches,val_batches,10)"
   ]
  },
  {
   "cell_type": "code",
   "execution_count": 96,
   "metadata": {
    "collapsed": true
   },
   "outputs": [],
   "source": [
    "model.save_weights(model_path+\"roadsign1.h5\")"
   ]
  },
  {
   "cell_type": "code",
   "execution_count": 12,
   "metadata": {
    "collapsed": true
   },
   "outputs": [],
   "source": [
    "model.load_weights(model_path+'roadsign1.h5')"
   ]
  },
  {
   "cell_type": "code",
   "execution_count": 13,
   "metadata": {},
   "outputs": [],
   "source": [
    "layers =  model.layers\n",
    "for layer in layers[12:]: layer.trainable=True\n",
    "K.set_value(opt.lr, 0.01)\n"
   ]
  },
  {
   "cell_type": "code",
   "execution_count": 14,
   "metadata": {
    "collapsed": true
   },
   "outputs": [],
   "source": [
    "#removing drop out\n",
    "\n",
    "model.load_weights(model_path+'roadsign1.h5')\n",
    "\n"
   ]
  },
  {
   "cell_type": "code",
   "execution_count": 15,
   "metadata": {},
   "outputs": [
    {
     "data": {
      "text/plain": [
       "30"
      ]
     },
     "execution_count": 15,
     "metadata": {},
     "output_type": "execute_result"
    }
   ],
   "source": [
    "last_conv_idx = [index for index,layer in enumerate(layers)\n",
    "                if type(layer) is Convolution2D][-1]\n",
    "last_conv_idx"
   ]
  },
  {
   "cell_type": "code",
   "execution_count": 16,
   "metadata": {},
   "outputs": [
    {
     "data": {
      "text/plain": [
       "<keras.layers.convolutional.Convolution2D at 0x7f88b4e65ed0>"
      ]
     },
     "execution_count": 16,
     "metadata": {},
     "output_type": "execute_result"
    }
   ],
   "source": [
    "layers[last_conv_idx]"
   ]
  },
  {
   "cell_type": "code",
   "execution_count": 17,
   "metadata": {},
   "outputs": [
    {
     "data": {
      "text/plain": [
       "[<keras.layers.pooling.MaxPooling2D at 0x7f88b4e93d10>,\n",
       " <keras.layers.core.Flatten at 0x7f88b4dfe450>,\n",
       " <keras.layers.core.Dense at 0x7f88b4d95410>,\n",
       " <keras.layers.core.Dropout at 0x7f88b4d9bfd0>,\n",
       " <keras.layers.core.Dense at 0x7f88b4ab15d0>,\n",
       " <keras.layers.core.Dropout at 0x7f88b4d1e610>,\n",
       " <keras.layers.core.Dense at 0x7f88b4a3e350>]"
      ]
     },
     "execution_count": 17,
     "metadata": {},
     "output_type": "execute_result"
    }
   ],
   "source": [
    "conv_layers = layers[:last_conv_idx+1]\n",
    "conv_model = Sequential(conv_layers)\n",
    "fc_layers = layers[last_conv_idx+1:]\n",
    "fc_layers"
   ]
  },
  {
   "cell_type": "code",
   "execution_count": 18,
   "metadata": {
    "collapsed": true
   },
   "outputs": [],
   "source": [
    "def proc_wgts(layer):return [o/2 for o in layer.get_weights()]\n"
   ]
  },
  {
   "cell_type": "code",
   "execution_count": 19,
   "metadata": {
    "collapsed": true
   },
   "outputs": [],
   "source": [
    "opt = RMSprop(lr = 0.1,rho =0.7)"
   ]
  },
  {
   "cell_type": "code",
   "execution_count": 20,
   "metadata": {
    "collapsed": true
   },
   "outputs": [],
   "source": [
    "def get_fc_model():\n",
    "    fc_model = Sequential([])\n",
    "    for i in range(len(conv_layers)):fc_model.add(conv_layers[i])\n",
    "    fc_model.add(MaxPooling2D(input_shape=conv_layers[-1].output_shape[1:]))\n",
    "    fc_model.add( Flatten()) \n",
    "    fc_model.add( Dense(4096, activation='relu'))\n",
    "    fc_model.add(Dropout(0.2))\n",
    "    fc_model.add(Dense(4096, activation='relu'))\n",
    "    fc_model.add(Dropout(0.2))\n",
    "    fc_model.add(Dense(62, activation='softmax'))\n",
    "    for l1,l2 in zip(fc_model.layers, conv_layers+fc_layers): l1.set_weights(proc_wgts(l2))\n",
    "    \n",
    "    fc_model.compile(optimizer = opt,loss=\"categorical_crossentropy\",metrics = [\"accuracy\"])\n",
    "    return fc_model"
   ]
  },
  {
   "cell_type": "code",
   "execution_count": null,
   "metadata": {
    "collapsed": true
   },
   "outputs": [],
   "source": []
  },
  {
   "cell_type": "code",
   "execution_count": 21,
   "metadata": {
    "collapsed": true
   },
   "outputs": [],
   "source": [
    "batch_size = 64"
   ]
  },
  {
   "cell_type": "code",
   "execution_count": 22,
   "metadata": {
    "collapsed": true
   },
   "outputs": [],
   "source": [
    "\n",
    "fc_model = get_fc_model()"
   ]
  },
  {
   "cell_type": "code",
   "execution_count": 26,
   "metadata": {},
   "outputs": [
    {
     "name": "stdout",
     "output_type": "stream",
     "text": [
      "Epoch 1/5\n",
      "4575/4575 [==============================] - 208s - loss: nan - acc: 0.0031 - val_loss: nan - val_acc: 0.0024\n",
      "Epoch 2/5\n",
      "4575/4575 [==============================] - 208s - loss: nan - acc: 0.0035 - val_loss: nan - val_acc: 0.0024\n",
      "Epoch 3/5\n",
      "4575/4575 [==============================] - 208s - loss: nan - acc: 0.0033 - val_loss: nan - val_acc: 0.0024\n",
      "Epoch 4/5\n",
      "4575/4575 [==============================] - 208s - loss: nan - acc: 0.0039 - val_loss: nan - val_acc: 0.0024\n",
      "Epoch 5/5\n",
      "4575/4575 [==============================] - 208s - loss: nan - acc: 0.0031 - val_loss: nan - val_acc: 0.0024\n"
     ]
    }
   ],
   "source": [
    "\n",
    "K.set_value(opt.lr,0.1)\n",
    "fit_model(fc_model,batches,val_batches,5)"
   ]
  },
  {
   "cell_type": "markdown",
   "metadata": {},
   "source": [
    "## ADD batchnorm to model"
   ]
  },
  {
   "cell_type": "code",
   "execution_count": 23,
   "metadata": {},
   "outputs": [
    {
     "data": {
      "text/plain": [
       "(512, 14, 14)"
      ]
     },
     "execution_count": 23,
     "metadata": {},
     "output_type": "execute_result"
    }
   ],
   "source": [
    "conv_layers[-1].output_shape[1:]\n"
   ]
  },
  {
   "cell_type": "code",
   "execution_count": 24,
   "metadata": {
    "collapsed": true
   },
   "outputs": [],
   "source": [
    "def get_bn_layers(p):\n",
    "    return [\n",
    "        MaxPooling2D(input_shape=conv_layers[-1].output_shape[1:]),\n",
    "        Flatten(),\n",
    "        Dense(4096, activation='relu'),\n",
    "        BatchNormalization(),\n",
    "        Dropout(p),\n",
    "        Dense(4096, activation='relu'),\n",
    "        BatchNormalization(),\n",
    "        Dropout(p),\n",
    "        Dense(1000, activation='softmax')\n",
    "        ]"
   ]
  },
  {
   "cell_type": "code",
   "execution_count": 25,
   "metadata": {
    "collapsed": true
   },
   "outputs": [],
   "source": [
    "def load_fc_weights_from_vgg16bn(model):\n",
    "    \"Load weights for model from the dense layers of the Vgg16BN model.\"\n",
    "    # See imagenet_batchnorm.ipynb for info on how the weights for\n",
    "    # Vgg16BN can be generated from the standard Vgg16 weights.\n",
    "    from vgg16bn import Vgg16BN\n",
    "    vgg16_bn = Vgg16BN()\n",
    "    _, fc_layers = split_at(vgg16_bn.model, Convolution2D)\n",
    "    copy_weights(fc_layers, model.layers)"
   ]
  },
  {
   "cell_type": "code",
   "execution_count": 26,
   "metadata": {
    "collapsed": true
   },
   "outputs": [],
   "source": [
    "p = 0.6"
   ]
  },
  {
   "cell_type": "code",
   "execution_count": 27,
   "metadata": {
    "collapsed": true
   },
   "outputs": [],
   "source": [
    "bn_model = Sequential(get_bn_layers(0.6))"
   ]
  },
  {
   "cell_type": "code",
   "execution_count": 28,
   "metadata": {},
   "outputs": [],
   "source": [
    "load_fc_weights_from_vgg16bn(bn_model)"
   ]
  },
  {
   "cell_type": "code",
   "execution_count": 29,
   "metadata": {
    "collapsed": true
   },
   "outputs": [],
   "source": [
    "def proc_wgts(layer, prev_p, new_p):\n",
    "    scal = (1-prev_p)/(1-new_p)\n",
    "    return [o*scal for o in layer.get_weights()]"
   ]
  },
  {
   "cell_type": "code",
   "execution_count": 30,
   "metadata": {
    "collapsed": true
   },
   "outputs": [],
   "source": [
    "for l in bn_model.layers: \n",
    "    if type(l)==Dense: l.set_weights(proc_wgts(l, 0.5, 0.6))"
   ]
  },
  {
   "cell_type": "code",
   "execution_count": 31,
   "metadata": {
    "collapsed": true
   },
   "outputs": [],
   "source": [
    "bn_model.pop()\n",
    "for layer in bn_model.layers: layer.trainable=False"
   ]
  },
  {
   "cell_type": "code",
   "execution_count": 32,
   "metadata": {
    "collapsed": true
   },
   "outputs": [],
   "source": [
    "bn_model.add(Dense(62,activation=\"softmax\"))"
   ]
  },
  {
   "cell_type": "code",
   "execution_count": 33,
   "metadata": {},
   "outputs": [],
   "source": [
    "bn_model.compile(Adam(),\"categorical_crossentropy\", metrics=[\"accuracy\"])\n"
   ]
  },
  {
   "cell_type": "code",
   "execution_count": 36,
   "metadata": {},
   "outputs": [],
   "source": [
    "final_model = Sequential(conv_layers)\n",
    "for layer in final_model.layers: layer.trainable = False\n",
    "for layer in bn_model.layers: final_model.add(layer)"
   ]
  },
  {
   "cell_type": "code",
   "execution_count": 39,
   "metadata": {},
   "outputs": [
    {
     "ename": "NameError",
     "evalue": "name 'bn_layers' is not defined",
     "output_type": "error",
     "traceback": [
      "\u001b[0;31m---------------------------------------------------------------------------\u001b[0m",
      "\u001b[0;31mNameError\u001b[0m                                 Traceback (most recent call last)",
      "\u001b[0;32m<ipython-input-39-d095c10cf861>\u001b[0m in \u001b[0;36m<module>\u001b[0;34m()\u001b[0m\n\u001b[0;32m----> 1\u001b[0;31m \u001b[0;32mfor\u001b[0m \u001b[0ml1\u001b[0m\u001b[0;34m,\u001b[0m\u001b[0ml2\u001b[0m \u001b[0;32min\u001b[0m \u001b[0mzip\u001b[0m\u001b[0;34m(\u001b[0m\u001b[0mbn_model\u001b[0m\u001b[0;34m.\u001b[0m\u001b[0mlayers\u001b[0m\u001b[0;34m,\u001b[0m \u001b[0mbn_layers\u001b[0m\u001b[0;34m)\u001b[0m\u001b[0;34m:\u001b[0m\u001b[0;34m\u001b[0m\u001b[0m\n\u001b[0m\u001b[1;32m      2\u001b[0m     \u001b[0ml2\u001b[0m\u001b[0;34m.\u001b[0m\u001b[0mset_weights\u001b[0m\u001b[0;34m(\u001b[0m\u001b[0ml1\u001b[0m\u001b[0;34m.\u001b[0m\u001b[0mget_weights\u001b[0m\u001b[0;34m(\u001b[0m\u001b[0;34m)\u001b[0m\u001b[0;34m)\u001b[0m\u001b[0;34m\u001b[0m\u001b[0m\n",
      "\u001b[0;31mNameError\u001b[0m: name 'bn_layers' is not defined"
     ]
    }
   ],
   "source": [
    "for l1,l2 in zip(bn_model.layers, bn_layers):\n",
    "    l2.set_weights(l1.get_weights())"
   ]
  },
  {
   "cell_type": "code",
   "execution_count": 42,
   "metadata": {},
   "outputs": [
    {
     "data": {
      "text/plain": [
       "<CudaNdarrayType(float32, scalar)>"
      ]
     },
     "execution_count": 42,
     "metadata": {},
     "output_type": "execute_result"
    }
   ],
   "source": [
    "final_model.optimizer.lr"
   ]
  },
  {
   "cell_type": "code",
   "execution_count": 41,
   "metadata": {
    "collapsed": true
   },
   "outputs": [],
   "source": [
    "final_model.compile(optimizer = Adam(),loss=\"categorical_crossentropy\",metrics=[\"accuracy\"])"
   ]
  },
  {
   "cell_type": "code",
   "execution_count": 42,
   "metadata": {},
   "outputs": [
    {
     "name": "stdout",
     "output_type": "stream",
     "text": [
      "Epoch 1/10\n",
      "4575/4575 [==============================] - 88s - loss: 1.9766 - acc: 0.6463 - val_loss: 4.6632 - val_acc: 0.0198\n",
      "Epoch 2/10\n",
      "4575/4575 [==============================] - 87s - loss: 1.5994 - acc: 0.7030 - val_loss: 3.8956 - val_acc: 0.1278\n",
      "Epoch 3/10\n",
      "4575/4575 [==============================] - 87s - loss: 1.3466 - acc: 0.7495 - val_loss: 5.3675 - val_acc: 0.0000e+00\n",
      "Epoch 4/10\n",
      "4575/4575 [==============================] - 87s - loss: 1.1130 - acc: 0.7871 - val_loss: 6.2238 - val_acc: 0.0119\n",
      "Epoch 5/10\n",
      "4575/4575 [==============================] - 87s - loss: 1.0641 - acc: 0.7932 - val_loss: 5.8183 - val_acc: 0.0048\n",
      "Epoch 6/10\n",
      "4575/4575 [==============================] - 87s - loss: 1.0627 - acc: 0.7996 - val_loss: 6.3198 - val_acc: 0.0079\n",
      "Epoch 7/10\n",
      "4575/4575 [==============================] - 87s - loss: 1.0054 - acc: 0.8094 - val_loss: 5.7029 - val_acc: 0.0468\n",
      "Epoch 8/10\n",
      "4575/4575 [==============================] - 87s - loss: 0.8293 - acc: 0.8339 - val_loss: 4.4099 - val_acc: 0.1341\n",
      "Epoch 9/10\n",
      "4575/4575 [==============================] - 87s - loss: 0.9277 - acc: 0.8302 - val_loss: 2.9145 - val_acc: 0.3171\n",
      "Epoch 10/10\n",
      "4575/4575 [==============================] - 87s - loss: 0.8635 - acc: 0.8428 - val_loss: 1.9655 - val_acc: 0.4893\n"
     ]
    },
    {
     "data": {
      "text/plain": [
       "<keras.callbacks.History at 0x7ff3c4213550>"
      ]
     },
     "execution_count": 42,
     "metadata": {},
     "output_type": "execute_result"
    }
   ],
   "source": [
    "final_model.fit_generator(batches,samples_per_epoch=batches.nb_sample,nb_epoch=10,\n",
    "                         validation_data = val_batches,nb_val_samples=val_batches.nb_sample)"
   ]
  },
  {
   "cell_type": "code",
   "execution_count": 43,
   "metadata": {},
   "outputs": [
    {
     "name": "stdout",
     "output_type": "stream",
     "text": [
      "Epoch 1/20\n",
      "4575/4575 [==============================] - 87s - loss: 0.7897 - acc: 0.8472 - val_loss: 1.4748 - val_acc: 0.6135\n",
      "Epoch 2/20\n",
      "4575/4575 [==============================] - 87s - loss: 0.7814 - acc: 0.8533 - val_loss: 1.1423 - val_acc: 0.7171\n",
      "Epoch 3/20\n",
      "4575/4575 [==============================] - 87s - loss: 0.7961 - acc: 0.8544 - val_loss: 1.2477 - val_acc: 0.7052\n",
      "Epoch 4/20\n",
      "4575/4575 [==============================] - 87s - loss: 0.7348 - acc: 0.8645 - val_loss: 1.1683 - val_acc: 0.7385\n",
      "Epoch 5/20\n",
      "4575/4575 [==============================] - 87s - loss: 0.7681 - acc: 0.8592 - val_loss: 1.1566 - val_acc: 0.7599\n",
      "Epoch 6/20\n",
      "4575/4575 [==============================] - 87s - loss: 0.7293 - acc: 0.8662 - val_loss: 1.2436 - val_acc: 0.7302\n",
      "Epoch 7/20\n",
      "4575/4575 [==============================] - 87s - loss: 0.8207 - acc: 0.8577 - val_loss: 1.2886 - val_acc: 0.7417\n",
      "Epoch 8/20\n",
      "4575/4575 [==============================] - 87s - loss: 0.7308 - acc: 0.8680 - val_loss: 1.0546 - val_acc: 0.8008\n",
      "Epoch 9/20\n",
      "4575/4575 [==============================] - 87s - loss: 0.7510 - acc: 0.8682 - val_loss: 1.0602 - val_acc: 0.7786\n",
      "Epoch 10/20\n",
      "4575/4575 [==============================] - 87s - loss: 0.7514 - acc: 0.8695 - val_loss: 1.4202 - val_acc: 0.7202\n",
      "Epoch 11/20\n",
      "4575/4575 [==============================] - 87s - loss: 0.7469 - acc: 0.8697 - val_loss: 1.3594 - val_acc: 0.7294\n",
      "Epoch 12/20\n",
      "4575/4575 [==============================] - 87s - loss: 0.6894 - acc: 0.8783 - val_loss: 1.1883 - val_acc: 0.7607\n",
      "Epoch 13/20\n",
      "4575/4575 [==============================] - 87s - loss: 0.6678 - acc: 0.8721 - val_loss: 1.2028 - val_acc: 0.7512\n",
      "Epoch 14/20\n",
      "4575/4575 [==============================] - 87s - loss: 0.6827 - acc: 0.8776 - val_loss: 1.1562 - val_acc: 0.7774\n",
      "Epoch 15/20\n",
      "4575/4575 [==============================] - 87s - loss: 0.7625 - acc: 0.8715 - val_loss: 1.2875 - val_acc: 0.7508\n",
      "Epoch 16/20\n",
      "4575/4575 [==============================] - 87s - loss: 0.7018 - acc: 0.8807 - val_loss: 1.3659 - val_acc: 0.7290\n",
      "Epoch 17/20\n",
      "4575/4575 [==============================] - 87s - loss: 0.7556 - acc: 0.8776 - val_loss: 1.4365 - val_acc: 0.7298\n",
      "Epoch 18/20\n",
      "4575/4575 [==============================] - 87s - loss: 0.7039 - acc: 0.8793 - val_loss: 1.2600 - val_acc: 0.7583\n",
      "Epoch 19/20\n",
      "4575/4575 [==============================] - 87s - loss: 0.7714 - acc: 0.8737 - val_loss: 1.3260 - val_acc: 0.7369\n",
      "Epoch 20/20\n",
      "4575/4575 [==============================] - 87s - loss: 0.7607 - acc: 0.8787 - val_loss: 1.3585 - val_acc: 0.7643\n"
     ]
    },
    {
     "data": {
      "text/plain": [
       "<keras.callbacks.History at 0x7ff3c42132d0>"
      ]
     },
     "execution_count": 43,
     "metadata": {},
     "output_type": "execute_result"
    }
   ],
   "source": [
    "final_model.fit_generator(batches,samples_per_epoch=batches.nb_sample,nb_epoch=20,\n",
    "                         validation_data = val_batches,nb_val_samples=val_batches.nb_sample)"
   ]
  },
  {
   "cell_type": "code",
   "execution_count": 44,
   "metadata": {},
   "outputs": [
    {
     "name": "stdout",
     "output_type": "stream",
     "text": [
      "Epoch 1/10\n",
      "4575/4575 [==============================] - 87s - loss: 0.6589 - acc: 0.8973 - val_loss: 1.3084 - val_acc: 0.7734\n",
      "Epoch 2/10\n",
      "4575/4575 [==============================] - 87s - loss: 0.7142 - acc: 0.8769 - val_loss: 1.3146 - val_acc: 0.7615\n",
      "Epoch 3/10\n",
      "4575/4575 [==============================] - 87s - loss: 0.7272 - acc: 0.8804 - val_loss: 1.2912 - val_acc: 0.7651\n",
      "Epoch 4/10\n",
      "4575/4575 [==============================] - 87s - loss: 0.6554 - acc: 0.8940 - val_loss: 1.2594 - val_acc: 0.7841\n",
      "Epoch 5/10\n",
      "4575/4575 [==============================] - 87s - loss: 0.7085 - acc: 0.8883 - val_loss: 1.2332 - val_acc: 0.7849\n",
      "Epoch 6/10\n",
      "4575/4575 [==============================] - 87s - loss: 0.6546 - acc: 0.8885 - val_loss: 1.2053 - val_acc: 0.7754\n",
      "Epoch 7/10\n",
      "4575/4575 [==============================] - 87s - loss: 0.7312 - acc: 0.8848 - val_loss: 1.1902 - val_acc: 0.7940\n",
      "Epoch 8/10\n",
      "4575/4575 [==============================] - 87s - loss: 0.6865 - acc: 0.8951 - val_loss: 1.3610 - val_acc: 0.7647\n",
      "Epoch 9/10\n",
      "4575/4575 [==============================] - 87s - loss: 0.7471 - acc: 0.8850 - val_loss: 1.3862 - val_acc: 0.7528\n",
      "Epoch 10/10\n",
      "4575/4575 [==============================] - 88s - loss: 0.7155 - acc: 0.8898 - val_loss: 1.4062 - val_acc: 0.7548\n"
     ]
    },
    {
     "data": {
      "text/plain": [
       "<keras.callbacks.History at 0x7ff3c4213450>"
      ]
     },
     "execution_count": 44,
     "metadata": {},
     "output_type": "execute_result"
    }
   ],
   "source": [
    " final_model.fit_generator(batches,samples_per_epoch=batches.nb_sample,nb_epoch=10,\n",
    "                         validation_data = val_batches,nb_val_samples=val_batches.nb_sample)"
   ]
  },
  {
   "cell_type": "code",
   "execution_count": 45,
   "metadata": {
    "collapsed": true
   },
   "outputs": [],
   "source": [
    "final_model.save_weights(model_path+\"final_model_weights.h5\")\n"
   ]
  },
  {
   "cell_type": "code",
   "execution_count": 43,
   "metadata": {
    "collapsed": true
   },
   "outputs": [],
   "source": [
    "final_model.load_weights(model_path+\"final_model_weights.h5\")"
   ]
  },
  {
   "cell_type": "code",
   "execution_count": 44,
   "metadata": {},
   "outputs": [
    {
     "data": {
      "text/plain": [
       "<CudaNdarrayType(float32, scalar)>"
      ]
     },
     "execution_count": 44,
     "metadata": {},
     "output_type": "execute_result"
    }
   ],
   "source": [
    "final_model.optimizer.lr "
   ]
  },
  {
   "cell_type": "code",
   "execution_count": 45,
   "metadata": {},
   "outputs": [
    {
     "name": "stdout",
     "output_type": "stream",
     "text": [
      "Epoch 1/10\n",
      "4575/4575 [==============================] - 87s - loss: 0.7007 - acc: 0.8870 - val_loss: 1.5091 - val_acc: 0.7353\n",
      "Epoch 2/10\n",
      "4575/4575 [==============================] - 87s - loss: 0.7185 - acc: 0.8839 - val_loss: 1.4169 - val_acc: 0.7659\n",
      "Epoch 3/10\n",
      "4575/4575 [==============================] - 87s - loss: 0.6673 - acc: 0.8968 - val_loss: 1.3666 - val_acc: 0.7627\n",
      "Epoch 4/10\n",
      "4575/4575 [==============================] - 87s - loss: 0.6919 - acc: 0.8916 - val_loss: 1.3156 - val_acc: 0.7655\n",
      "Epoch 5/10\n",
      "4575/4575 [==============================] - 87s - loss: 0.6921 - acc: 0.8944 - val_loss: 1.4310 - val_acc: 0.7520\n",
      "Epoch 6/10\n",
      "4575/4575 [==============================] - 87s - loss: 0.6823 - acc: 0.8973 - val_loss: 1.4189 - val_acc: 0.7472\n",
      "Epoch 7/10\n",
      "4575/4575 [==============================] - 87s - loss: 0.7153 - acc: 0.8859 - val_loss: 1.2549 - val_acc: 0.7865\n",
      "Epoch 8/10\n",
      "4575/4575 [==============================] - 87s - loss: 0.7685 - acc: 0.8817 - val_loss: 1.3612 - val_acc: 0.7639\n",
      "Epoch 9/10\n",
      "4575/4575 [==============================] - 87s - loss: 0.6814 - acc: 0.8957 - val_loss: 1.4317 - val_acc: 0.7718\n",
      "Epoch 10/10\n",
      "4575/4575 [==============================] - 87s - loss: 0.6615 - acc: 0.8927 - val_loss: 1.3811 - val_acc: 0.7643\n"
     ]
    },
    {
     "data": {
      "text/plain": [
       "<keras.callbacks.History at 0x7f88b15ee7d0>"
      ]
     },
     "execution_count": 45,
     "metadata": {},
     "output_type": "execute_result"
    }
   ],
   "source": [
    "\n",
    "final_model.fit_generator(batches,samples_per_epoch=batches.nb_sample,nb_epoch=10,\n",
    "                         validation_data = val_batches,nb_val_samples=val_batches.nb_sample)"
   ]
  },
  {
   "cell_type": "code",
   "execution_count": 63,
   "metadata": {},
   "outputs": [
    {
     "name": "stdout",
     "output_type": "stream",
     "text": [
      "____________________________________________________________________________________________________\n",
      "Layer (type)                     Output Shape          Param #     Connected to                     \n",
      "====================================================================================================\n",
      "lambda_1 (Lambda)                (None, 3, 224, 224)   0           lambda_input_1[0][0]             \n",
      "____________________________________________________________________________________________________\n",
      "zeropadding2d_1 (ZeroPadding2D)  (None, 3, 226, 226)   0           lambda_1[0][0]                   \n",
      "____________________________________________________________________________________________________\n",
      "convolution2d_1 (Convolution2D)  (None, 64, 224, 224)  1792        zeropadding2d_1[4][0]            \n",
      "____________________________________________________________________________________________________\n",
      "zeropadding2d_2 (ZeroPadding2D)  (None, 64, 226, 226)  0           convolution2d_1[4][0]            \n",
      "____________________________________________________________________________________________________\n",
      "convolution2d_2 (Convolution2D)  (None, 64, 224, 224)  36928       zeropadding2d_2[4][0]            \n",
      "____________________________________________________________________________________________________\n",
      "maxpooling2d_1 (MaxPooling2D)    (None, 64, 112, 112)  0           convolution2d_2[4][0]            \n",
      "____________________________________________________________________________________________________\n",
      "zeropadding2d_3 (ZeroPadding2D)  (None, 64, 114, 114)  0           maxpooling2d_1[4][0]             \n",
      "____________________________________________________________________________________________________\n",
      "convolution2d_3 (Convolution2D)  (None, 128, 112, 112) 73856       zeropadding2d_3[4][0]            \n",
      "____________________________________________________________________________________________________\n",
      "zeropadding2d_4 (ZeroPadding2D)  (None, 128, 114, 114) 0           convolution2d_3[4][0]            \n",
      "____________________________________________________________________________________________________\n",
      "convolution2d_4 (Convolution2D)  (None, 128, 112, 112) 147584      zeropadding2d_4[4][0]            \n",
      "____________________________________________________________________________________________________\n",
      "maxpooling2d_2 (MaxPooling2D)    (None, 128, 56, 56)   0           convolution2d_4[4][0]            \n",
      "____________________________________________________________________________________________________\n",
      "zeropadding2d_5 (ZeroPadding2D)  (None, 128, 58, 58)   0           maxpooling2d_2[4][0]             \n",
      "____________________________________________________________________________________________________\n",
      "convolution2d_5 (Convolution2D)  (None, 256, 56, 56)   295168      zeropadding2d_5[4][0]            \n",
      "____________________________________________________________________________________________________\n",
      "zeropadding2d_6 (ZeroPadding2D)  (None, 256, 58, 58)   0           convolution2d_5[4][0]            \n",
      "____________________________________________________________________________________________________\n",
      "convolution2d_6 (Convolution2D)  (None, 256, 56, 56)   590080      zeropadding2d_6[4][0]            \n",
      "____________________________________________________________________________________________________\n",
      "zeropadding2d_7 (ZeroPadding2D)  (None, 256, 58, 58)   0           convolution2d_6[4][0]            \n",
      "____________________________________________________________________________________________________\n",
      "convolution2d_7 (Convolution2D)  (None, 256, 56, 56)   590080      zeropadding2d_7[4][0]            \n",
      "____________________________________________________________________________________________________\n",
      "maxpooling2d_3 (MaxPooling2D)    (None, 256, 28, 28)   0           convolution2d_7[4][0]            \n",
      "____________________________________________________________________________________________________\n",
      "zeropadding2d_8 (ZeroPadding2D)  (None, 256, 30, 30)   0           maxpooling2d_3[4][0]             \n",
      "____________________________________________________________________________________________________\n",
      "convolution2d_8 (Convolution2D)  (None, 512, 28, 28)   1180160     zeropadding2d_8[4][0]            \n",
      "____________________________________________________________________________________________________\n",
      "zeropadding2d_9 (ZeroPadding2D)  (None, 512, 30, 30)   0           convolution2d_8[4][0]            \n",
      "____________________________________________________________________________________________________\n",
      "convolution2d_9 (Convolution2D)  (None, 512, 28, 28)   2359808     zeropadding2d_9[4][0]            \n",
      "____________________________________________________________________________________________________\n",
      "zeropadding2d_10 (ZeroPadding2D) (None, 512, 30, 30)   0           convolution2d_9[4][0]            \n",
      "____________________________________________________________________________________________________\n",
      "convolution2d_10 (Convolution2D) (None, 512, 28, 28)   2359808     zeropadding2d_10[4][0]           \n",
      "____________________________________________________________________________________________________\n",
      "maxpooling2d_4 (MaxPooling2D)    (None, 512, 14, 14)   0           convolution2d_10[4][0]           \n",
      "____________________________________________________________________________________________________\n",
      "zeropadding2d_11 (ZeroPadding2D) (None, 512, 16, 16)   0           maxpooling2d_4[4][0]             \n",
      "____________________________________________________________________________________________________\n",
      "convolution2d_11 (Convolution2D) (None, 512, 14, 14)   2359808     zeropadding2d_11[4][0]           \n",
      "____________________________________________________________________________________________________\n",
      "zeropadding2d_12 (ZeroPadding2D) (None, 512, 16, 16)   0           convolution2d_11[4][0]           \n",
      "____________________________________________________________________________________________________\n",
      "convolution2d_12 (Convolution2D) (None, 512, 14, 14)   2359808     zeropadding2d_12[4][0]           \n",
      "____________________________________________________________________________________________________\n",
      "zeropadding2d_13 (ZeroPadding2D) (None, 512, 16, 16)   0           convolution2d_12[4][0]           \n",
      "____________________________________________________________________________________________________\n",
      "convolution2d_13 (Convolution2D) (None, 512, 14, 14)   2359808     zeropadding2d_13[4][0]           \n",
      "____________________________________________________________________________________________________\n",
      "maxpooling2d_7 (MaxPooling2D)    (None, 512, 7, 7)     0           convolution2d_13[4][0]           \n",
      "____________________________________________________________________________________________________\n",
      "flatten_3 (Flatten)              (None, 25088)         0           maxpooling2d_7[1][0]             \n",
      "____________________________________________________________________________________________________\n",
      "dense_8 (Dense)                  (None, 4096)          102764544   flatten_3[1][0]                  \n",
      "____________________________________________________________________________________________________\n",
      "batchnormalization_1 (BatchNorma (None, 4096)          16384       dense_8[1][0]                    \n",
      "____________________________________________________________________________________________________\n",
      "dropout_5 (Dropout)              (None, 4096)          0           batchnormalization_1[1][0]       \n",
      "____________________________________________________________________________________________________\n",
      "dense_9 (Dense)                  (None, 4096)          16781312    dropout_5[1][0]                  \n",
      "____________________________________________________________________________________________________\n",
      "batchnormalization_2 (BatchNorma (None, 4096)          16384       dense_9[1][0]                    \n",
      "____________________________________________________________________________________________________\n",
      "dropout_6 (Dropout)              (None, 4096)          0           batchnormalization_2[1][0]       \n",
      "____________________________________________________________________________________________________\n",
      "dense_14 (Dense)                 (None, 62)            254014      dropout_6[1][0]                  \n",
      "====================================================================================================\n"
     ]
    },
    {
     "name": "stdout",
     "output_type": "stream",
     "text": [
      "Total params: 134,547,326\n",
      "Trainable params: 254,014\n",
      "Non-trainable params: 134,293,312\n",
      "____________________________________________________________________________________________________\n"
     ]
    }
   ],
   "source": [
    "final_model.summary()"
   ]
  },
  {
   "cell_type": "code",
   "execution_count": 46,
   "metadata": {},
   "outputs": [
    {
     "name": "stdout",
     "output_type": "stream",
     "text": [
      "Epoch 1/20\n",
      "4575/4575 [==============================] - 88s - loss: 0.6759 - acc: 0.8929 - val_loss: 1.4686 - val_acc: 0.7627\n",
      "Epoch 2/20\n",
      "4575/4575 [==============================] - 87s - loss: 0.7254 - acc: 0.8938 - val_loss: 1.5067 - val_acc: 0.7679\n",
      "Epoch 3/20\n",
      "4575/4575 [==============================] - 87s - loss: 0.7435 - acc: 0.8925 - val_loss: 1.5764 - val_acc: 0.7536\n",
      "Epoch 4/20\n",
      "4575/4575 [==============================] - 87s - loss: 0.7159 - acc: 0.8942 - val_loss: 1.6824 - val_acc: 0.7484\n",
      "Epoch 5/20\n",
      "4575/4575 [==============================] - 87s - loss: 0.7645 - acc: 0.8953 - val_loss: 1.4927 - val_acc: 0.7583\n",
      "Epoch 6/20\n",
      "4575/4575 [==============================] - 87s - loss: 0.8074 - acc: 0.8811 - val_loss: 1.5804 - val_acc: 0.7520\n",
      "Epoch 7/20\n",
      "4575/4575 [==============================] - 87s - loss: 0.7090 - acc: 0.8979 - val_loss: 1.6827 - val_acc: 0.7472\n",
      "Epoch 8/20\n",
      "4575/4575 [==============================] - 87s - loss: 0.6878 - acc: 0.8964 - val_loss: 1.7449 - val_acc: 0.7373\n",
      "Epoch 9/20\n",
      "4575/4575 [==============================] - 87s - loss: 0.6951 - acc: 0.8957 - val_loss: 1.5124 - val_acc: 0.7714\n",
      "Epoch 10/20\n",
      "4575/4575 [==============================] - 87s - loss: 0.6902 - acc: 0.9005 - val_loss: 1.3942 - val_acc: 0.7746\n",
      "Epoch 11/20\n",
      "4575/4575 [==============================] - 87s - loss: 0.6523 - acc: 0.9012 - val_loss: 1.4548 - val_acc: 0.7837\n",
      "Epoch 12/20\n",
      "4575/4575 [==============================] - 87s - loss: 0.6742 - acc: 0.9036 - val_loss: 1.5041 - val_acc: 0.7615\n",
      "Epoch 13/20\n",
      "4575/4575 [==============================] - 87s - loss: 0.6762 - acc: 0.8988 - val_loss: 1.4777 - val_acc: 0.7631\n",
      "Epoch 14/20\n",
      "4575/4575 [==============================] - 87s - loss: 0.7205 - acc: 0.8920 - val_loss: 1.4154 - val_acc: 0.7845\n",
      "Epoch 15/20\n",
      "4575/4575 [==============================] - 87s - loss: 0.6457 - acc: 0.9058 - val_loss: 1.6278 - val_acc: 0.7496\n",
      "Epoch 16/20\n",
      "4575/4575 [==============================] - 87s - loss: 0.6918 - acc: 0.9012 - val_loss: 1.6303 - val_acc: 0.7460\n",
      "Epoch 17/20\n",
      "4575/4575 [==============================] - 87s - loss: 0.6868 - acc: 0.9071 - val_loss: 1.5932 - val_acc: 0.7694\n",
      "Epoch 18/20\n",
      "4575/4575 [==============================] - 87s - loss: 0.6948 - acc: 0.9030 - val_loss: 1.6378 - val_acc: 0.7599\n",
      "Epoch 19/20\n",
      "4575/4575 [==============================] - 87s - loss: 0.6857 - acc: 0.9008 - val_loss: 1.7521 - val_acc: 0.7409\n",
      "Epoch 20/20\n",
      "4575/4575 [==============================] - 87s - loss: 0.7010 - acc: 0.8992 - val_loss: 1.4339 - val_acc: 0.7877\n"
     ]
    },
    {
     "data": {
      "text/plain": [
       "<keras.callbacks.History at 0x7f88a22dcc50>"
      ]
     },
     "execution_count": 46,
     "metadata": {},
     "output_type": "execute_result"
    }
   ],
   "source": [
    "\n",
    "final_model.fit_generator(batches,samples_per_epoch=batches.nb_sample,nb_epoch=20,\n",
    "                         validation_data = val_batches,nb_val_samples=val_batches.nb_sample)"
   ]
  },
  {
   "cell_type": "code",
   "execution_count": 47,
   "metadata": {},
   "outputs": [
    {
     "name": "stdout",
     "output_type": "stream",
     "text": [
      "Epoch 1/20\n",
      "4575/4575 [==============================] - 87s - loss: 0.7089 - acc: 0.8975 - val_loss: 1.5085 - val_acc: 0.7762\n",
      "Epoch 2/20\n",
      "4575/4575 [==============================] - 87s - loss: 0.6557 - acc: 0.9043 - val_loss: 1.6247 - val_acc: 0.7571\n",
      "Epoch 3/20\n",
      "4575/4575 [==============================] - 87s - loss: 0.6821 - acc: 0.9016 - val_loss: 1.6439 - val_acc: 0.7544\n",
      "Epoch 4/20\n",
      "4575/4575 [==============================] - 87s - loss: 0.6490 - acc: 0.9051 - val_loss: 1.6872 - val_acc: 0.7563\n",
      "Epoch 5/20\n",
      "4575/4575 [==============================] - 87s - loss: 0.7004 - acc: 0.9040 - val_loss: 1.4738 - val_acc: 0.7698\n",
      "Epoch 6/20\n",
      "4575/4575 [==============================] - 87s - loss: 0.6250 - acc: 0.9089 - val_loss: 1.5907 - val_acc: 0.7778\n",
      "Epoch 7/20\n",
      "4575/4575 [==============================] - 87s - loss: 0.6811 - acc: 0.9080 - val_loss: 1.5198 - val_acc: 0.7770\n",
      "Epoch 8/20\n",
      "4575/4575 [==============================] - 87s - loss: 0.6915 - acc: 0.9012 - val_loss: 1.4281 - val_acc: 0.7909\n",
      "Epoch 9/20\n",
      "4575/4575 [==============================] - 87s - loss: 0.6667 - acc: 0.9091 - val_loss: 1.6080 - val_acc: 0.7607\n",
      "Epoch 10/20\n",
      "4575/4575 [==============================] - 87s - loss: 0.7315 - acc: 0.9047 - val_loss: 1.8853 - val_acc: 0.7524\n",
      "Epoch 11/20\n",
      "4575/4575 [==============================] - 87s - loss: 0.7286 - acc: 0.9027 - val_loss: 1.3822 - val_acc: 0.7933\n",
      "Epoch 12/20\n",
      "4575/4575 [==============================] - 87s - loss: 0.7239 - acc: 0.9064 - val_loss: 1.6107 - val_acc: 0.7754\n",
      "Epoch 13/20\n",
      "4575/4575 [==============================] - 87s - loss: 0.7440 - acc: 0.9030 - val_loss: 1.5598 - val_acc: 0.7770\n",
      "Epoch 14/20\n",
      "4575/4575 [==============================] - 87s - loss: 0.6816 - acc: 0.9064 - val_loss: 1.8907 - val_acc: 0.7353\n",
      "Epoch 15/20\n",
      "4575/4575 [==============================] - 87s - loss: 0.6793 - acc: 0.9043 - val_loss: 1.7000 - val_acc: 0.7567\n",
      "Epoch 16/20\n",
      "4575/4575 [==============================] - 88s - loss: 0.6713 - acc: 0.9069 - val_loss: 1.4636 - val_acc: 0.7885\n",
      "Epoch 17/20\n",
      "4575/4575 [==============================] - 87s - loss: 0.6073 - acc: 0.9128 - val_loss: 1.7581 - val_acc: 0.7532\n",
      "Epoch 18/20\n",
      "4575/4575 [==============================] - 87s - loss: 0.6625 - acc: 0.9086 - val_loss: 1.9182 - val_acc: 0.7484\n",
      "Epoch 19/20\n",
      "4575/4575 [==============================] - 87s - loss: 0.6243 - acc: 0.9134 - val_loss: 1.7782 - val_acc: 0.7591\n",
      "Epoch 20/20\n",
      "4575/4575 [==============================] - 87s - loss: 0.6735 - acc: 0.9082 - val_loss: 1.7147 - val_acc: 0.7722\n"
     ]
    },
    {
     "data": {
      "text/plain": [
       "<keras.callbacks.History at 0x7f88b3fb6090>"
      ]
     },
     "execution_count": 47,
     "metadata": {},
     "output_type": "execute_result"
    }
   ],
   "source": [
    "final_model.fit_generator(batches,samples_per_epoch=batches.nb_sample,nb_epoch=20,\n",
    "                         validation_data = val_batches,nb_val_samples=val_batches.nb_sample)"
   ]
  },
  {
   "cell_type": "code",
   "execution_count": 49,
   "metadata": {},
   "outputs": [
    {
     "name": "stdout",
     "output_type": "stream",
     "text": [
      "Epoch 1/20\n",
      "4575/4575 [==============================] - 87s - loss: 0.7028 - acc: 0.9084 - val_loss: 1.7465 - val_acc: 0.7651\n",
      "Epoch 2/20\n",
      "4575/4575 [==============================] - 87s - loss: 0.7668 - acc: 0.9025 - val_loss: 2.0030 - val_acc: 0.7345\n",
      "Epoch 3/20\n",
      "4575/4575 [==============================] - 87s - loss: 0.6860 - acc: 0.9060 - val_loss: 1.9652 - val_acc: 0.7532\n",
      "Epoch 4/20\n",
      "4575/4575 [==============================] - 87s - loss: 0.6861 - acc: 0.9108 - val_loss: 1.6801 - val_acc: 0.7873\n",
      "Epoch 5/20\n",
      "4575/4575 [==============================] - 87s - loss: 0.7024 - acc: 0.9078 - val_loss: 1.6692 - val_acc: 0.7849\n",
      "Epoch 6/20\n",
      "4575/4575 [==============================] - 87s - loss: 0.7170 - acc: 0.9067 - val_loss: 1.5996 - val_acc: 0.7925\n",
      "Epoch 7/20\n",
      "4575/4575 [==============================] - 87s - loss: 0.6881 - acc: 0.9104 - val_loss: 1.8667 - val_acc: 0.7548\n",
      "Epoch 8/20\n",
      "4575/4575 [==============================] - 87s - loss: 0.6263 - acc: 0.9130 - val_loss: 1.5847 - val_acc: 0.7909\n",
      "Epoch 9/20\n",
      "4575/4575 [==============================] - 87s - loss: 0.7320 - acc: 0.9062 - val_loss: 1.7055 - val_acc: 0.7734\n",
      "Epoch 10/20\n",
      "4575/4575 [==============================] - 87s - loss: 0.7114 - acc: 0.9064 - val_loss: 1.7561 - val_acc: 0.7663\n",
      "Epoch 11/20\n",
      "4575/4575 [==============================] - 88s - loss: 0.7346 - acc: 0.9047 - val_loss: 1.7689 - val_acc: 0.7798\n",
      "Epoch 12/20\n",
      "4575/4575 [==============================] - 87s - loss: 0.6551 - acc: 0.9200 - val_loss: 1.8686 - val_acc: 0.7571\n",
      "Epoch 13/20\n",
      "4575/4575 [==============================] - 87s - loss: 0.7384 - acc: 0.9062 - val_loss: 1.6819 - val_acc: 0.7782\n",
      "Epoch 14/20\n",
      "4575/4575 [==============================] - 87s - loss: 0.7135 - acc: 0.9123 - val_loss: 1.7678 - val_acc: 0.7750\n",
      "Epoch 15/20\n",
      "4575/4575 [==============================] - 87s - loss: 0.7099 - acc: 0.9102 - val_loss: 1.8474 - val_acc: 0.7698\n",
      "Epoch 16/20\n",
      "4575/4575 [==============================] - 87s - loss: 0.6572 - acc: 0.9089 - val_loss: 1.9238 - val_acc: 0.7679\n",
      "Epoch 17/20\n",
      "4575/4575 [==============================] - 87s - loss: 0.6983 - acc: 0.9121 - val_loss: 1.8812 - val_acc: 0.7667\n",
      "Epoch 18/20\n",
      "4575/4575 [==============================] - 87s - loss: 0.7174 - acc: 0.9086 - val_loss: 1.7922 - val_acc: 0.7742\n",
      "Epoch 19/20\n",
      "4575/4575 [==============================] - 87s - loss: 0.6569 - acc: 0.9134 - val_loss: 1.9025 - val_acc: 0.7651\n",
      "Epoch 20/20\n",
      "4575/4575 [==============================] - 87s - loss: 0.6987 - acc: 0.9084 - val_loss: 1.8229 - val_acc: 0.7631\n"
     ]
    },
    {
     "data": {
      "text/plain": [
       "<keras.callbacks.History at 0x7f88a1ac5750>"
      ]
     },
     "execution_count": 49,
     "metadata": {},
     "output_type": "execute_result"
    }
   ],
   "source": [
    "final_model.fit_generator(batches,samples_per_epoch=batches.nb_sample,nb_epoch=20,\n",
    "                         validation_data = val_batches,nb_val_samples=val_batches.nb_sample)"
   ]
  },
  {
   "cell_type": "code",
   "execution_count": null,
   "metadata": {
    "collapsed": true
   },
   "outputs": [],
   "source": []
  }
 ],
 "metadata": {
  "kernelspec": {
   "display_name": "Python 2",
   "language": "python",
   "name": "python2"
  },
  "language_info": {
   "codemirror_mode": {
    "name": "ipython",
    "version": 2
   },
   "file_extension": ".py",
   "mimetype": "text/x-python",
   "name": "python",
   "nbconvert_exporter": "python",
   "pygments_lexer": "ipython2",
   "version": "2.7.13"
  }
 },
 "nbformat": 4,
 "nbformat_minor": 2
}
